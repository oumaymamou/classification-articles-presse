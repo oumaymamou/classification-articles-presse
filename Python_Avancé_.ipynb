{
 "cells": [
  {
   "cell_type": "markdown",
   "metadata": {},
   "source": [
    "# <h1 style=\"color:blue; text-align:center; text-decoration:underline;\"> Python Avancé : Analyse d’article de presse</h1>"
   ]
  },
  {
   "cell_type": "markdown",
   "metadata": {
    "id": "DtnwuTuu79aE"
   },
   "source": [
    "**Objectif:** L'objectif de ce projet est de concevoir une solution capable de classifier automatiquement des articles de presse selon leur thématique principale en utilisant des techniques de traitement du langage naturel (NLP) et d’apprentissage automatique."
   ]
  },
  {
   "cell_type": "markdown",
   "metadata": {
    "id": "p3HXy_xL8GZp"
   },
   "source": [
    "# 1. Préparation des données"
   ]
  },
  {
   "cell_type": "markdown",
   "metadata": {
    "id": "CrFlmc-L-uSX"
   },
   "source": [
    "Avant d'analyser les articles de presse, nous commençons par charger et explorer les fichiers disponibles. Cette section décompresse l'archive contenant les articles, liste les fichiers extraits et affiche un aperçu du contenu du dossier."
   ]
  },
  {
   "cell_type": "code",
   "execution_count": null,
   "metadata": {
    "colab": {
     "base_uri": "https://localhost:8080/"
    },
    "id": "xoZFKVNw6-ib",
    "outputId": "9d6f6b84-bfe5-4147-a7b7-67f7ca2358b3"
   },
   "outputs": [
    {
     "name": "stdout",
     "output_type": "stream",
     "text": [
      "Fichiers dans /content/ : ['.config', 'Articles.zip', 'sample_data']\n"
     ]
    }
   ],
   "source": [
    "# Liste des fichiers présents dans le répertoire /content/\n",
    "import os\n",
    "print(\"Fichiers dans /content/ :\", os.listdir(\"/content/\"))\n"
   ]
  },
  {
   "cell_type": "code",
   "execution_count": null,
   "metadata": {
    "colab": {
     "base_uri": "https://localhost:8080/"
    },
    "id": "iUjFNE2sCEKQ",
    "outputId": "53a73aa2-bcb0-4e0a-fead-ea6af1bae3a7"
   },
   "outputs": [
    {
     "name": "stdout",
     "output_type": "stream",
     "text": [
      "Extraction terminée !\n",
      "Fichiers extraits dans : ['Articles']\n"
     ]
    }
   ],
   "source": [
    "# Décompresse un fichier ZIP dans un dossier spécifié\n",
    "import zipfile\n",
    "\n",
    "zip_path = \"/content/Articles.zip\"  # Chemin du fichier ZIP\n",
    "extract_path = \"/content/Articles/\"  # Dossier où extraire\n",
    "\n",
    "with zipfile.ZipFile(zip_path, 'r') as zip_ref:\n",
    "    zip_ref.extractall(extract_path)\n",
    "\n",
    "print(\"Extraction terminée !\")\n",
    "print(\"Fichiers extraits dans :\", os.listdir(extract_path))\n"
   ]
  },
  {
   "cell_type": "code",
   "execution_count": null,
   "metadata": {
    "colab": {
     "base_uri": "https://localhost:8080/"
    },
    "id": "fYSgmBAd9wP-",
    "outputId": "6c454a13-8947-4e75-f690-e25553fa8abd"
   },
   "outputs": [
    {
     "name": "stdout",
     "output_type": "stream",
     "text": [
      "Dossier : /content/Articles/\n",
      "Fichiers : []\n",
      "--------------------------------------------------\n",
      "Dossier : /content/Articles/Articles\n",
      "Fichiers : ['article_sport947.txt', 'article_science46.txt', 'article_sport480.txt', 'article_sport983.txt', 'article_science308.txt']\n",
      "--------------------------------------------------\n"
     ]
    }
   ],
   "source": [
    "# Affichage des dossiers et des 5 premiers fichiers dans chaque dossier\n",
    "for root, dirs, files in os.walk(\"/content/Articles/\"):\n",
    "    print(f\"Dossier : {root}\")\n",
    "    print(f\"Fichiers : {files[:5]}\")\n",
    "    print(\"-\" * 50)\n"
   ]
  },
  {
   "cell_type": "code",
   "execution_count": null,
   "metadata": {
    "id": "siHXv_WT-EEi"
   },
   "outputs": [],
   "source": [
    "# Chemin vers le répertoire des articles\n",
    "DATA_DIR = \"/content/Articles/Articles/\"\n",
    "\n"
   ]
  },
  {
   "cell_type": "code",
   "execution_count": null,
   "metadata": {
    "colab": {
     "base_uri": "https://localhost:8080/"
    },
    "id": "AG8x6m69-Lp6",
    "outputId": "5714f4d9-8898-4080-8e1f-c4a26f53f22d"
   },
   "outputs": [
    {
     "name": "stdout",
     "output_type": "stream",
     "text": [
      "Fichiers trouvés : ['article_sport947.txt', 'article_science46.txt', 'article_sport480.txt', 'article_sport983.txt', 'article_science308.txt', 'article_sport563.txt', 'article_economie63.txt', 'article_economie30.txt', 'article_science266.txt', 'article_science366.txt']\n"
     ]
    }
   ],
   "source": [
    "# Afficher les 10 premiers fichiers\n",
    "import os\n",
    "print(\"Fichiers trouvés :\", os.listdir(DATA_DIR)[:10])\n"
   ]
  },
  {
   "cell_type": "markdown",
   "metadata": {
    "id": "QWNGeSg6Bq3W"
   },
   "source": [
    "Nous commençons par importer les bibliothèques nécessaires pour le traitement du texte, l'apprentissage automatique et la visualisation des résultats."
   ]
  },
  {
   "cell_type": "code",
   "execution_count": null,
   "metadata": {
    "id": "I8OFRxTw_g4f"
   },
   "outputs": [],
   "source": [
    "# Importation des bibliotiques:\n",
    "import os\n",
    "import pandas as pd\n",
    "import numpy as np\n",
    "import re\n",
    "import nltk\n",
    "from nltk.corpus import stopwords\n",
    "from nltk.tokenize import word_tokenize\n",
    "from sklearn.model_selection import train_test_split\n",
    "from sklearn.feature_extraction.text import TfidfVectorizer\n",
    "from sklearn.naive_bayes import MultinomialNB\n",
    "from sklearn.svm import SVC\n",
    "from sklearn.ensemble import RandomForestClassifier\n",
    "from sklearn.linear_model import LogisticRegression\n",
    "from sklearn.metrics import accuracy_score, classification_report, confusion_matrix\n",
    "import matplotlib.pyplot as plt\n",
    "import seaborn as sns"
   ]
  },
  {
   "cell_type": "markdown",
   "metadata": {
    "id": "dmXBsGQ-AcJH"
   },
   "source": [
    "# 2. Téléchargement des ressources NLTK"
   ]
  },
  {
   "cell_type": "markdown",
   "metadata": {
    "id": "XLUmRnk_Bx9Y"
   },
   "source": [
    "**NLTK** est utilisé pour le traitement du langage naturel. Nous téléchargeons les ressources nécessaires, notamment les stopwords et le tokenizer."
   ]
  },
  {
   "cell_type": "code",
   "execution_count": null,
   "metadata": {
    "colab": {
     "base_uri": "https://localhost:8080/"
    },
    "id": "8AqcXk9QAkzx",
    "outputId": "d7fbd325-0ff3-4699-df9d-6718f08d258b"
   },
   "outputs": [
    {
     "name": "stderr",
     "output_type": "stream",
     "text": [
      "[nltk_data] Downloading package stopwords to /root/nltk_data...\n",
      "[nltk_data]   Unzipping corpora/stopwords.zip.\n",
      "[nltk_data] Downloading package punkt to /root/nltk_data...\n",
      "[nltk_data]   Unzipping tokenizers/punkt.zip.\n"
     ]
    },
    {
     "data": {
      "text/plain": [
       "True"
      ]
     },
     "execution_count": 7,
     "metadata": {},
     "output_type": "execute_result"
    }
   ],
   "source": [
    "# Téléchargement des ressources NLTK\n",
    "nltk.download('stopwords')\n",
    "nltk.download('punkt')"
   ]
  },
  {
   "cell_type": "markdown",
   "metadata": {
    "id": "sJBBkeNtAwJb"
   },
   "source": [
    "# 3. Chemin des articles"
   ]
  },
  {
   "cell_type": "markdown",
   "metadata": {
    "id": "klW_sVISDe83"
   },
   "source": [
    "Nous définissons le chemin d'accès aux articles, listons les fichiers disponibles et filtrons uniquement les fichiers texte à analyser."
   ]
  },
  {
   "cell_type": "code",
   "execution_count": null,
   "metadata": {
    "id": "L6F2oLiuA32I"
   },
   "outputs": [],
   "source": [
    "# Chemin des articles\n",
    "import os\n",
    "\n",
    "ARTICLE_PATH = \"/content/Articles/Articles/\"\n",
    "\n",
    "files = [file for file in os.listdir(ARTICLE_PATH) if file.endswith(\".txt\")]\n",
    "#print(f\"Fichiers trouvés : {files}\")\n"
   ]
  },
  {
   "cell_type": "markdown",
   "metadata": {
    "id": "FrfKOwK0BAq6"
   },
   "source": [
    "# 4. Lecture des fichiers textes"
   ]
  },
  {
   "cell_type": "markdown",
   "metadata": {
    "id": "lJbpwG4qDqhF"
   },
   "source": [
    "Les articles sont extraits et transformés en un format exploitable. Nous récupérons le titre, le résumé et le texte complet. De plus, nous assignons une catégorie à chaque article en fonction de son nom de fichier."
   ]
  },
  {
   "cell_type": "code",
   "execution_count": null,
   "metadata": {
    "colab": {
     "base_uri": "https://localhost:8080/"
    },
    "id": "A0ChtTpEBJHN",
    "outputId": "358f666d-111d-4349-a91c-fbcaa3ff3255"
   },
   "outputs": [
    {
     "name": "stdout",
     "output_type": "stream",
     "text": [
      "Nombre d'articles chargés : 3681\n",
      "Quelques articles chargés :\n"
     ]
    }
   ],
   "source": [
    "# Lecture des fichiers textes\n",
    "article_data = []\n",
    "labels = []\n",
    "\n",
    "for file in os.listdir(ARTICLE_PATH):\n",
    "    if file.endswith(\".txt\"):\n",
    "        with open(os.path.join(ARTICLE_PATH, file), \"r\", encoding=\"utf-8\") as f:\n",
    "            lines = f.readlines()\n",
    "\n",
    "\n",
    "          #  print(f\"Fichier {file} : Nombre de lignes = {len(lines)}\")\n",
    "           # print(f\"Premiers caractères du fichier : {''.join(lines[:2])[:200]}\")  # Affiche les 2 premières lignes du fichier\n",
    "\n",
    "            if len(lines) >= 3:\n",
    "                title = lines[0].strip()\n",
    "                summary = lines[1].strip()\n",
    "                full_text = \" \".join(line.strip() for line in lines[2:])\n",
    "                article_data.append((title, summary, full_text))\n",
    "\n",
    "\n",
    "                if \"sport\" in file.lower():\n",
    "                    labels.append(\"Sport\")\n",
    "                elif \"economie\" in file.lower():\n",
    "                    labels.append(\"Economie\")\n",
    "                elif \"science\" in file.lower():\n",
    "                    labels.append(\"Science\")\n",
    "                else:\n",
    "                    labels.append(\"Autre\")  # Cas où le fichier n'a pas de catégorie explicite\n",
    "            else:\n",
    "                print(f\"Le fichier {file} n'a pas assez de lignes.\")\n",
    "       #  print(f\"Articles après lecture du fichier {file} : {len(article_data)}\")\n",
    "\n",
    "# Vérification du nombre d'articles chargés et des premières lignes\n",
    "print(f\"Nombre d'articles chargés : {len(article_data)}\")\n",
    "if article_data:\n",
    "    print(\"Quelques articles chargés :\")\n",
    "    # print(article_data[:2])  # Affiche les deux premiers articles pour vérification\n"
   ]
  },
  {
   "cell_type": "markdown",
   "metadata": {
    "id": "_PlmrlxIBVLj"
   },
   "source": [
    "# 5. Création d'un DataFrame"
   ]
  },
  {
   "cell_type": "markdown",
   "metadata": {
    "id": "FwZlapOVD3xa"
   },
   "source": [
    "Une fois les articles extraits et catégorisés, nous les structurons sous forme d’un DataFrame Pandas pour faciliter l’analyse et la manipulation des données."
   ]
  },
  {
   "cell_type": "code",
   "execution_count": null,
   "metadata": {
    "colab": {
     "base_uri": "https://localhost:8080/"
    },
    "id": "u26Hb-UhBvvm",
    "outputId": "16156d71-b576-4a9f-9d8f-afb532d421e7"
   },
   "outputs": [
    {
     "name": "stdout",
     "output_type": "stream",
     "text": [
      "Shape du DataFrame : (3681, 4)\n",
      "Quelques lignes du DataFrame :\n",
      "                                               Titre Résumé  \\\n",
      "0  JO de Paris 2024 : les pépites histoires des e...          \n",
      "1  La calculatrice, premier numéro des énigmes ma...          \n",
      "2  JO¬†2024¬†: des m√©dailles de bronze s‚Äôab√Æm...          \n",
      "3  Fortes pluies, vents violents… Mayotte placée ...          \n",
      "4  Le module spatial japonais « Moon Sniper » s’e...          \n",
      "\n",
      "                                               Texte Catégorie  \n",
      "0  Exploits des athlètes, discussion avec les coa...     Sport  \n",
      "1  Chaque semaine, le mathématicien Mickaël Launa...   Science  \n",
      "2  Les nageurs fran√ßais Cl√©ment Secchi et Yohan...     Sport  \n",
      "3  L’île, détruite en décembre par le cyclone Chi...     Sport  \n",
      "4  Ce module spatial SLIM devait non seulement al...   Science  \n"
     ]
    }
   ],
   "source": [
    "# Création d'un DataFrame à partir des données d'articles et l'ajout de la colonne 'Catégorie'\n",
    "article_df = pd.DataFrame(article_data, columns=[\"Titre\", \"Résumé\", \"Texte\"])\n",
    "article_df[\"Catégorie\"] = labels\n",
    "\n",
    "# Vérification du DataFrame\n",
    "print(f\"Shape du DataFrame : {article_df.shape}\")\n",
    "print(f\"Quelques lignes du DataFrame :\\n{article_df.head()}\")\n"
   ]
  },
  {
   "cell_type": "markdown",
   "metadata": {
    "id": "Tx_mKuq_B3-P"
   },
   "source": [
    "# 6. Affichage de quelques lignes"
   ]
  },
  {
   "cell_type": "code",
   "execution_count": null,
   "metadata": {
    "colab": {
     "base_uri": "https://localhost:8080/",
     "height": 258
    },
    "id": "G0zjL9MiCEbr",
    "outputId": "35314a97-b4e6-42c8-8dcb-fc000e8a8100"
   },
   "outputs": [
    {
     "data": {
      "application/vnd.google.colaboratory.intrinsic+json": {
       "summary": "{\n  \"name\": \"display(article_df\",\n  \"rows\": 5,\n  \"fields\": [\n    {\n      \"column\": \"Titre\",\n      \"properties\": {\n        \"dtype\": \"string\",\n        \"num_unique_values\": 5,\n        \"samples\": [\n          \"La calculatrice, premier num\\u00e9ro des \\u00e9nigmes maths du \\u00ab\\u00a0Monde\\u00a0\\u00bb\",\n          \"Le module spatial japonais \\u00ab\\u00a0Moon Sniper\\u00a0\\u00bb s\\u2019est pos\\u00e9 sur la Lune\",\n          \"JO\\u00ac\\u20202024\\u00ac\\u2020: des m\\u221a\\u00a9dailles de bronze s\\u201a\\u00c4\\u00f4ab\\u221a\\u00c6ment, la Monnaie de Paris promet de les remplacer d\\u221a\\u00a9but\\u00ac\\u20202025\"\n        ],\n        \"semantic_type\": \"\",\n        \"description\": \"\"\n      }\n    },\n    {\n      \"column\": \"R\\u00e9sum\\u00e9\",\n      \"properties\": {\n        \"dtype\": \"object\",\n        \"num_unique_values\": 1,\n        \"samples\": [\n          \"\"\n        ],\n        \"semantic_type\": \"\",\n        \"description\": \"\"\n      }\n    },\n    {\n      \"column\": \"Texte\",\n      \"properties\": {\n        \"dtype\": \"string\",\n        \"num_unique_values\": 5,\n        \"samples\": [\n          \"Chaque semaine, le math\\u00e9maticien Micka\\u00ebl Launay vous soumet un probl\\u00e8me. A vous de jouer\\u00a0!  Apr\\u00e8s le d\\u00e9c\\u00e8s de Gilles Cohen, qui pendant vingt-six ans proposa aux lecteurs du Monde son \\u00ab\\u00a0Affaire de logique\\u00a0\\u00bb hebdomadaire, Micka\\u00ebl Launay a accept\\u00e9 de prendre la rel\\u00e8ve et d\\u2019offrir, chaque semaine, une \\u00e9nigme math\\u00e9matique. Il le fera \\u00e0 sa mani\\u00e8re\\u00a0: joyeuse, ludique, d\\u00e9cal\\u00e9e. Normalien, agr\\u00e9g\\u00e9, Micka\\u00ebl Launay aurait pu \\u00eatre enseignant ou chercheur. Il a choisi la voie p\\u00e9rilleuse de la vulgarisation scientifique. \\u00ab\\u00a0Montreur de maths\\u00a0\\u00bb, r\\u00e9sume-t-il. Son blog, sa cha\\u00eene YouTube Micmaths, ses livres, ses conf\\u00e9rences sont devenus des passages presque oblig\\u00e9s pour les amoureux de la discipline, mais aussi une seconde chance pour les r\\u00e9fractaires. Qu\\u2019il y aborde des probl\\u00e8mes classiques de fa\\u00e7on originale ou d\\u00e9niche des \\u00e9nigmes dans nos actes quotidiens les plus ordinaires, il conserve toujours un m\\u00eame cap\\u00a0: le plaisir. Celui du jeu, des histoires, des surprises. Un regard d\\u2019enfant que nous invitons les lecteurs du Monde \\u00e0 partager avec lui. Une vieille calculatrice ne peut plus effectuer que les quatre op\\u00e9rations suivantes\\u00a0: +2003, -2003, \\u00d72003 et \\u00f72003. En l\\u2019allumant, la calculatrice affiche 0. En combien d\\u2019op\\u00e9rations au minimum peut-on lui faire afficher 2004\\u00a0? Cette \\u00e9nigme, \\u00e9crite il y a plus de vingt ans, est ma premi\\u00e8re \\u00e9nigme \\u00e0 avoir \\u00e9t\\u00e9 publi\\u00e9e. Il y avait alors un club de jeux math\\u00e9matiques dans mon lyc\\u00e9e, men\\u00e9 par Dominique Souder, math\\u00e9magicien agissant sous la couverture de prof de maths. J\\u2019aimais r\\u00e9soudre les \\u00e9nigmes qu\\u2019il nous posait et j\\u2019aimais en inventer \\u00e0 mon tour. Un jour, sans pr\\u00e9venir, il m\\u2019annon\\u00e7a avoir envoy\\u00e9 une s\\u00e9lection de nos \\u00e9nigmes \\u00e0 Gilles Cohen, directeur des \\u00e9ditions P\\u00f4le et figure incontournable du monde des math\\u00e9matiques r\\u00e9cr\\u00e9atives. Et ce dernier avait accept\\u00e9 de les publier. L\\u2019ann\\u00e9e suivante, un petit livre paraissait et, sur la premi\\u00e8re page, une histoire de vieille calculatrice. Ce fut mon premier pas dans l\\u2019univers de la vulgarisation et de la diffusion des math\\u00e9matiques. Depuis 1997, Gilles Cohen menait avec Elisabeth Busser la rubrique \\u00ab\\u00a0Affaire de logique\\u00a0\\u00bb, chaque semaine, dans Le Monde. Il la poursuivra jusqu\\u2019\\u00e0 sa disparition, l\\u2019ann\\u00e9e derni\\u00e8re. C\\u2019est peu dire qu\\u2019il s\\u2019agit d\\u2019un honneur pour moi d\\u2019essayer, \\u00e0 sa suite, de vous amuser chaque semaine avec quelques \\u00e9nigmes math\\u00e9matiques. Les probl\\u00e8mes de vieilles calculatrices un peu cass\\u00e9es sont des classiques renouvelables \\u00e0 l\\u2019infini. Selon les op\\u00e9rations autoris\\u00e9es par leurs m\\u00e9canismes d\\u00e9faillants, elles nous entra\\u00eenent dans un labyrinthe de nombres et poussent notre ing\\u00e9niosit\\u00e9 dans ses retranchements. Quels raccourcis peut-on emprunter\\u00a0? Quelles impasses \\u00e9viter\\u00a0? Des quantit\\u00e9s proches peuvent soudain voir un mur se dresser entre elles, tandis que les plus lointaines se rapprochent. Mais tr\\u00eave de bavardages, \\u00e0 vous de jouer. Apr\\u00e8s avoir r\\u00e9solu la premi\\u00e8re \\u00e9nigme, en voici deux autres par ordre de difficult\\u00e9. Une vieille calculatrice ne peut plus effectuer que les trois op\\u00e9rations suivantes\\u00a0: +1, -1 et l\\u2019op\\u00e9ration \\u00ab\\u00a0au carr\\u00e9\\u00a0\\u00bb, qui renvoie le r\\u00e9sultat de la multiplication du nombre affich\\u00e9 par lui-m\\u00eame (par exemple, 5 renverra 5\\u00b2 soit 25). En l\\u2019allumant, elle affiche 0. En combien d\\u2019op\\u00e9rations au minimum peut-on lui faire afficher 2024\\u00a0? En la tapotant dans une vaine tentative de la remettre d\\u2019aplomb, la calculatrice s\\u2019est \\u00e0 nouveau d\\u00e9r\\u00e9gl\\u00e9e. Elle peut d\\u00e9sormais effectuer les trois op\\u00e9rations suivantes\\u00a0: +1, -1 et l\\u2019inversion de l\\u2019ordre des chiffres dans l\\u2019\\u00e9criture du nombre. Par exemple, partant de 12345 cette op\\u00e9ration renverra 54321, et partant de 310 elle renverra 13 (les z\\u00e9ros inutiles ne sont pas affich\\u00e9s). En l\\u2019allumant, elle affiche 0. En combien d\\u2019op\\u00e9rations au minimum peut-on lui faire afficher 2024\\u00a0?\"\n        ],\n        \"semantic_type\": \"\",\n        \"description\": \"\"\n      }\n    },\n    {\n      \"column\": \"Cat\\u00e9gorie\",\n      \"properties\": {\n        \"dtype\": \"category\",\n        \"num_unique_values\": 2,\n        \"samples\": [\n          \"Science\"\n        ],\n        \"semantic_type\": \"\",\n        \"description\": \"\"\n      }\n    }\n  ]\n}",
       "type": "dataframe"
      },
      "text/html": [
       "\n",
       "  <div id=\"df-fd83533a-9c83-4fbc-a97a-41f29c6233ae\" class=\"colab-df-container\">\n",
       "    <div>\n",
       "<style scoped>\n",
       "    .dataframe tbody tr th:only-of-type {\n",
       "        vertical-align: middle;\n",
       "    }\n",
       "\n",
       "    .dataframe tbody tr th {\n",
       "        vertical-align: top;\n",
       "    }\n",
       "\n",
       "    .dataframe thead th {\n",
       "        text-align: right;\n",
       "    }\n",
       "</style>\n",
       "<table border=\"1\" class=\"dataframe\">\n",
       "  <thead>\n",
       "    <tr style=\"text-align: right;\">\n",
       "      <th></th>\n",
       "      <th>Titre</th>\n",
       "      <th>Résumé</th>\n",
       "      <th>Texte</th>\n",
       "      <th>Catégorie</th>\n",
       "    </tr>\n",
       "  </thead>\n",
       "  <tbody>\n",
       "    <tr>\n",
       "      <th>0</th>\n",
       "      <td>JO de Paris 2024 : les pépites histoires des e...</td>\n",
       "      <td></td>\n",
       "      <td>Exploits des athlètes, discussion avec les coa...</td>\n",
       "      <td>Sport</td>\n",
       "    </tr>\n",
       "    <tr>\n",
       "      <th>1</th>\n",
       "      <td>La calculatrice, premier numéro des énigmes ma...</td>\n",
       "      <td></td>\n",
       "      <td>Chaque semaine, le mathématicien Mickaël Launa...</td>\n",
       "      <td>Science</td>\n",
       "    </tr>\n",
       "    <tr>\n",
       "      <th>2</th>\n",
       "      <td>JO¬†2024¬†: des m√©dailles de bronze s‚Äôab√Æm...</td>\n",
       "      <td></td>\n",
       "      <td>Les nageurs fran√ßais Cl√©ment Secchi et Yohan...</td>\n",
       "      <td>Sport</td>\n",
       "    </tr>\n",
       "    <tr>\n",
       "      <th>3</th>\n",
       "      <td>Fortes pluies, vents violents… Mayotte placée ...</td>\n",
       "      <td></td>\n",
       "      <td>L’île, détruite en décembre par le cyclone Chi...</td>\n",
       "      <td>Sport</td>\n",
       "    </tr>\n",
       "    <tr>\n",
       "      <th>4</th>\n",
       "      <td>Le module spatial japonais « Moon Sniper » s’e...</td>\n",
       "      <td></td>\n",
       "      <td>Ce module spatial SLIM devait non seulement al...</td>\n",
       "      <td>Science</td>\n",
       "    </tr>\n",
       "  </tbody>\n",
       "</table>\n",
       "</div>\n",
       "    <div class=\"colab-df-buttons\">\n",
       "\n",
       "  <div class=\"colab-df-container\">\n",
       "    <button class=\"colab-df-convert\" onclick=\"convertToInteractive('df-fd83533a-9c83-4fbc-a97a-41f29c6233ae')\"\n",
       "            title=\"Convert this dataframe to an interactive table.\"\n",
       "            style=\"display:none;\">\n",
       "\n",
       "  <svg xmlns=\"http://www.w3.org/2000/svg\" height=\"24px\" viewBox=\"0 -960 960 960\">\n",
       "    <path d=\"M120-120v-720h720v720H120Zm60-500h600v-160H180v160Zm220 220h160v-160H400v160Zm0 220h160v-160H400v160ZM180-400h160v-160H180v160Zm440 0h160v-160H620v160ZM180-180h160v-160H180v160Zm440 0h160v-160H620v160Z\"/>\n",
       "  </svg>\n",
       "    </button>\n",
       "\n",
       "  <style>\n",
       "    .colab-df-container {\n",
       "      display:flex;\n",
       "      gap: 12px;\n",
       "    }\n",
       "\n",
       "    .colab-df-convert {\n",
       "      background-color: #E8F0FE;\n",
       "      border: none;\n",
       "      border-radius: 50%;\n",
       "      cursor: pointer;\n",
       "      display: none;\n",
       "      fill: #1967D2;\n",
       "      height: 32px;\n",
       "      padding: 0 0 0 0;\n",
       "      width: 32px;\n",
       "    }\n",
       "\n",
       "    .colab-df-convert:hover {\n",
       "      background-color: #E2EBFA;\n",
       "      box-shadow: 0px 1px 2px rgba(60, 64, 67, 0.3), 0px 1px 3px 1px rgba(60, 64, 67, 0.15);\n",
       "      fill: #174EA6;\n",
       "    }\n",
       "\n",
       "    .colab-df-buttons div {\n",
       "      margin-bottom: 4px;\n",
       "    }\n",
       "\n",
       "    [theme=dark] .colab-df-convert {\n",
       "      background-color: #3B4455;\n",
       "      fill: #D2E3FC;\n",
       "    }\n",
       "\n",
       "    [theme=dark] .colab-df-convert:hover {\n",
       "      background-color: #434B5C;\n",
       "      box-shadow: 0px 1px 3px 1px rgba(0, 0, 0, 0.15);\n",
       "      filter: drop-shadow(0px 1px 2px rgba(0, 0, 0, 0.3));\n",
       "      fill: #FFFFFF;\n",
       "    }\n",
       "  </style>\n",
       "\n",
       "    <script>\n",
       "      const buttonEl =\n",
       "        document.querySelector('#df-fd83533a-9c83-4fbc-a97a-41f29c6233ae button.colab-df-convert');\n",
       "      buttonEl.style.display =\n",
       "        google.colab.kernel.accessAllowed ? 'block' : 'none';\n",
       "\n",
       "      async function convertToInteractive(key) {\n",
       "        const element = document.querySelector('#df-fd83533a-9c83-4fbc-a97a-41f29c6233ae');\n",
       "        const dataTable =\n",
       "          await google.colab.kernel.invokeFunction('convertToInteractive',\n",
       "                                                    [key], {});\n",
       "        if (!dataTable) return;\n",
       "\n",
       "        const docLinkHtml = 'Like what you see? Visit the ' +\n",
       "          '<a target=\"_blank\" href=https://colab.research.google.com/notebooks/data_table.ipynb>data table notebook</a>'\n",
       "          + ' to learn more about interactive tables.';\n",
       "        element.innerHTML = '';\n",
       "        dataTable['output_type'] = 'display_data';\n",
       "        await google.colab.output.renderOutput(dataTable, element);\n",
       "        const docLink = document.createElement('div');\n",
       "        docLink.innerHTML = docLinkHtml;\n",
       "        element.appendChild(docLink);\n",
       "      }\n",
       "    </script>\n",
       "  </div>\n",
       "\n",
       "\n",
       "<div id=\"df-94d50071-deb1-40b7-baab-316a192b3e5e\">\n",
       "  <button class=\"colab-df-quickchart\" onclick=\"quickchart('df-94d50071-deb1-40b7-baab-316a192b3e5e')\"\n",
       "            title=\"Suggest charts\"\n",
       "            style=\"display:none;\">\n",
       "\n",
       "<svg xmlns=\"http://www.w3.org/2000/svg\" height=\"24px\"viewBox=\"0 0 24 24\"\n",
       "     width=\"24px\">\n",
       "    <g>\n",
       "        <path d=\"M19 3H5c-1.1 0-2 .9-2 2v14c0 1.1.9 2 2 2h14c1.1 0 2-.9 2-2V5c0-1.1-.9-2-2-2zM9 17H7v-7h2v7zm4 0h-2V7h2v10zm4 0h-2v-4h2v4z\"/>\n",
       "    </g>\n",
       "</svg>\n",
       "  </button>\n",
       "\n",
       "<style>\n",
       "  .colab-df-quickchart {\n",
       "      --bg-color: #E8F0FE;\n",
       "      --fill-color: #1967D2;\n",
       "      --hover-bg-color: #E2EBFA;\n",
       "      --hover-fill-color: #174EA6;\n",
       "      --disabled-fill-color: #AAA;\n",
       "      --disabled-bg-color: #DDD;\n",
       "  }\n",
       "\n",
       "  [theme=dark] .colab-df-quickchart {\n",
       "      --bg-color: #3B4455;\n",
       "      --fill-color: #D2E3FC;\n",
       "      --hover-bg-color: #434B5C;\n",
       "      --hover-fill-color: #FFFFFF;\n",
       "      --disabled-bg-color: #3B4455;\n",
       "      --disabled-fill-color: #666;\n",
       "  }\n",
       "\n",
       "  .colab-df-quickchart {\n",
       "    background-color: var(--bg-color);\n",
       "    border: none;\n",
       "    border-radius: 50%;\n",
       "    cursor: pointer;\n",
       "    display: none;\n",
       "    fill: var(--fill-color);\n",
       "    height: 32px;\n",
       "    padding: 0;\n",
       "    width: 32px;\n",
       "  }\n",
       "\n",
       "  .colab-df-quickchart:hover {\n",
       "    background-color: var(--hover-bg-color);\n",
       "    box-shadow: 0 1px 2px rgba(60, 64, 67, 0.3), 0 1px 3px 1px rgba(60, 64, 67, 0.15);\n",
       "    fill: var(--button-hover-fill-color);\n",
       "  }\n",
       "\n",
       "  .colab-df-quickchart-complete:disabled,\n",
       "  .colab-df-quickchart-complete:disabled:hover {\n",
       "    background-color: var(--disabled-bg-color);\n",
       "    fill: var(--disabled-fill-color);\n",
       "    box-shadow: none;\n",
       "  }\n",
       "\n",
       "  .colab-df-spinner {\n",
       "    border: 2px solid var(--fill-color);\n",
       "    border-color: transparent;\n",
       "    border-bottom-color: var(--fill-color);\n",
       "    animation:\n",
       "      spin 1s steps(1) infinite;\n",
       "  }\n",
       "\n",
       "  @keyframes spin {\n",
       "    0% {\n",
       "      border-color: transparent;\n",
       "      border-bottom-color: var(--fill-color);\n",
       "      border-left-color: var(--fill-color);\n",
       "    }\n",
       "    20% {\n",
       "      border-color: transparent;\n",
       "      border-left-color: var(--fill-color);\n",
       "      border-top-color: var(--fill-color);\n",
       "    }\n",
       "    30% {\n",
       "      border-color: transparent;\n",
       "      border-left-color: var(--fill-color);\n",
       "      border-top-color: var(--fill-color);\n",
       "      border-right-color: var(--fill-color);\n",
       "    }\n",
       "    40% {\n",
       "      border-color: transparent;\n",
       "      border-right-color: var(--fill-color);\n",
       "      border-top-color: var(--fill-color);\n",
       "    }\n",
       "    60% {\n",
       "      border-color: transparent;\n",
       "      border-right-color: var(--fill-color);\n",
       "    }\n",
       "    80% {\n",
       "      border-color: transparent;\n",
       "      border-right-color: var(--fill-color);\n",
       "      border-bottom-color: var(--fill-color);\n",
       "    }\n",
       "    90% {\n",
       "      border-color: transparent;\n",
       "      border-bottom-color: var(--fill-color);\n",
       "    }\n",
       "  }\n",
       "</style>\n",
       "\n",
       "  <script>\n",
       "    async function quickchart(key) {\n",
       "      const quickchartButtonEl =\n",
       "        document.querySelector('#' + key + ' button');\n",
       "      quickchartButtonEl.disabled = true;  // To prevent multiple clicks.\n",
       "      quickchartButtonEl.classList.add('colab-df-spinner');\n",
       "      try {\n",
       "        const charts = await google.colab.kernel.invokeFunction(\n",
       "            'suggestCharts', [key], {});\n",
       "      } catch (error) {\n",
       "        console.error('Error during call to suggestCharts:', error);\n",
       "      }\n",
       "      quickchartButtonEl.classList.remove('colab-df-spinner');\n",
       "      quickchartButtonEl.classList.add('colab-df-quickchart-complete');\n",
       "    }\n",
       "    (() => {\n",
       "      let quickchartButtonEl =\n",
       "        document.querySelector('#df-94d50071-deb1-40b7-baab-316a192b3e5e button');\n",
       "      quickchartButtonEl.style.display =\n",
       "        google.colab.kernel.accessAllowed ? 'block' : 'none';\n",
       "    })();\n",
       "  </script>\n",
       "</div>\n",
       "\n",
       "    </div>\n",
       "  </div>\n"
      ],
      "text/plain": [
       "                                               Titre Résumé  \\\n",
       "0  JO de Paris 2024 : les pépites histoires des e...          \n",
       "1  La calculatrice, premier numéro des énigmes ma...          \n",
       "2  JO¬†2024¬†: des m√©dailles de bronze s‚Äôab√Æm...          \n",
       "3  Fortes pluies, vents violents… Mayotte placée ...          \n",
       "4  Le module spatial japonais « Moon Sniper » s’e...          \n",
       "\n",
       "                                               Texte Catégorie  \n",
       "0  Exploits des athlètes, discussion avec les coa...     Sport  \n",
       "1  Chaque semaine, le mathématicien Mickaël Launa...   Science  \n",
       "2  Les nageurs fran√ßais Cl√©ment Secchi et Yohan...     Sport  \n",
       "3  L’île, détruite en décembre par le cyclone Chi...     Sport  \n",
       "4  Ce module spatial SLIM devait non seulement al...   Science  "
      ]
     },
     "metadata": {},
     "output_type": "display_data"
    }
   ],
   "source": [
    "# Affichage de quelques lignes\n",
    "display(article_df.head())"
   ]
  },
  {
   "cell_type": "markdown",
   "metadata": {
    "id": "82aqGBZqDGCi"
   },
   "source": [
    "# 7. Nettoyage et prétraitement des textes"
   ]
  },
  {
   "cell_type": "code",
   "execution_count": null,
   "metadata": {
    "colab": {
     "base_uri": "https://localhost:8080/",
     "height": 258
    },
    "id": "4fWGvuN3JXaV",
    "outputId": "f55e8fb2-32d8-4010-ad00-0ab03751b326"
   },
   "outputs": [
    {
     "data": {
      "application/vnd.google.colaboratory.intrinsic+json": {
       "summary": "{\n  \"name\": \"display(article_df\",\n  \"rows\": 5,\n  \"fields\": [\n    {\n      \"column\": \"Titre\",\n      \"properties\": {\n        \"dtype\": \"string\",\n        \"num_unique_values\": 5,\n        \"samples\": [\n          \"La calculatrice, premier num\\u00e9ro des \\u00e9nigmes maths du \\u00ab\\u00a0Monde\\u00a0\\u00bb\",\n          \"Le module spatial japonais \\u00ab\\u00a0Moon Sniper\\u00a0\\u00bb s\\u2019est pos\\u00e9 sur la Lune\",\n          \"JO\\u00ac\\u20202024\\u00ac\\u2020: des m\\u221a\\u00a9dailles de bronze s\\u201a\\u00c4\\u00f4ab\\u221a\\u00c6ment, la Monnaie de Paris promet de les remplacer d\\u221a\\u00a9but\\u00ac\\u20202025\"\n        ],\n        \"semantic_type\": \"\",\n        \"description\": \"\"\n      }\n    },\n    {\n      \"column\": \"R\\u00e9sum\\u00e9\",\n      \"properties\": {\n        \"dtype\": \"object\",\n        \"num_unique_values\": 1,\n        \"samples\": [\n          \"\"\n        ],\n        \"semantic_type\": \"\",\n        \"description\": \"\"\n      }\n    },\n    {\n      \"column\": \"Texte\",\n      \"properties\": {\n        \"dtype\": \"string\",\n        \"num_unique_values\": 5,\n        \"samples\": [\n          \"Chaque semaine, le math\\u00e9maticien Micka\\u00ebl Launay vous soumet un probl\\u00e8me. A vous de jouer\\u00a0!  Apr\\u00e8s le d\\u00e9c\\u00e8s de Gilles Cohen, qui pendant vingt-six ans proposa aux lecteurs du Monde son \\u00ab\\u00a0Affaire de logique\\u00a0\\u00bb hebdomadaire, Micka\\u00ebl Launay a accept\\u00e9 de prendre la rel\\u00e8ve et d\\u2019offrir, chaque semaine, une \\u00e9nigme math\\u00e9matique. Il le fera \\u00e0 sa mani\\u00e8re\\u00a0: joyeuse, ludique, d\\u00e9cal\\u00e9e. Normalien, agr\\u00e9g\\u00e9, Micka\\u00ebl Launay aurait pu \\u00eatre enseignant ou chercheur. Il a choisi la voie p\\u00e9rilleuse de la vulgarisation scientifique. \\u00ab\\u00a0Montreur de maths\\u00a0\\u00bb, r\\u00e9sume-t-il. Son blog, sa cha\\u00eene YouTube Micmaths, ses livres, ses conf\\u00e9rences sont devenus des passages presque oblig\\u00e9s pour les amoureux de la discipline, mais aussi une seconde chance pour les r\\u00e9fractaires. Qu\\u2019il y aborde des probl\\u00e8mes classiques de fa\\u00e7on originale ou d\\u00e9niche des \\u00e9nigmes dans nos actes quotidiens les plus ordinaires, il conserve toujours un m\\u00eame cap\\u00a0: le plaisir. Celui du jeu, des histoires, des surprises. Un regard d\\u2019enfant que nous invitons les lecteurs du Monde \\u00e0 partager avec lui. Une vieille calculatrice ne peut plus effectuer que les quatre op\\u00e9rations suivantes\\u00a0: +2003, -2003, \\u00d72003 et \\u00f72003. En l\\u2019allumant, la calculatrice affiche 0. En combien d\\u2019op\\u00e9rations au minimum peut-on lui faire afficher 2004\\u00a0? Cette \\u00e9nigme, \\u00e9crite il y a plus de vingt ans, est ma premi\\u00e8re \\u00e9nigme \\u00e0 avoir \\u00e9t\\u00e9 publi\\u00e9e. Il y avait alors un club de jeux math\\u00e9matiques dans mon lyc\\u00e9e, men\\u00e9 par Dominique Souder, math\\u00e9magicien agissant sous la couverture de prof de maths. J\\u2019aimais r\\u00e9soudre les \\u00e9nigmes qu\\u2019il nous posait et j\\u2019aimais en inventer \\u00e0 mon tour. Un jour, sans pr\\u00e9venir, il m\\u2019annon\\u00e7a avoir envoy\\u00e9 une s\\u00e9lection de nos \\u00e9nigmes \\u00e0 Gilles Cohen, directeur des \\u00e9ditions P\\u00f4le et figure incontournable du monde des math\\u00e9matiques r\\u00e9cr\\u00e9atives. Et ce dernier avait accept\\u00e9 de les publier. L\\u2019ann\\u00e9e suivante, un petit livre paraissait et, sur la premi\\u00e8re page, une histoire de vieille calculatrice. Ce fut mon premier pas dans l\\u2019univers de la vulgarisation et de la diffusion des math\\u00e9matiques. Depuis 1997, Gilles Cohen menait avec Elisabeth Busser la rubrique \\u00ab\\u00a0Affaire de logique\\u00a0\\u00bb, chaque semaine, dans Le Monde. Il la poursuivra jusqu\\u2019\\u00e0 sa disparition, l\\u2019ann\\u00e9e derni\\u00e8re. C\\u2019est peu dire qu\\u2019il s\\u2019agit d\\u2019un honneur pour moi d\\u2019essayer, \\u00e0 sa suite, de vous amuser chaque semaine avec quelques \\u00e9nigmes math\\u00e9matiques. Les probl\\u00e8mes de vieilles calculatrices un peu cass\\u00e9es sont des classiques renouvelables \\u00e0 l\\u2019infini. Selon les op\\u00e9rations autoris\\u00e9es par leurs m\\u00e9canismes d\\u00e9faillants, elles nous entra\\u00eenent dans un labyrinthe de nombres et poussent notre ing\\u00e9niosit\\u00e9 dans ses retranchements. Quels raccourcis peut-on emprunter\\u00a0? Quelles impasses \\u00e9viter\\u00a0? Des quantit\\u00e9s proches peuvent soudain voir un mur se dresser entre elles, tandis que les plus lointaines se rapprochent. Mais tr\\u00eave de bavardages, \\u00e0 vous de jouer. Apr\\u00e8s avoir r\\u00e9solu la premi\\u00e8re \\u00e9nigme, en voici deux autres par ordre de difficult\\u00e9. Une vieille calculatrice ne peut plus effectuer que les trois op\\u00e9rations suivantes\\u00a0: +1, -1 et l\\u2019op\\u00e9ration \\u00ab\\u00a0au carr\\u00e9\\u00a0\\u00bb, qui renvoie le r\\u00e9sultat de la multiplication du nombre affich\\u00e9 par lui-m\\u00eame (par exemple, 5 renverra 5\\u00b2 soit 25). En l\\u2019allumant, elle affiche 0. En combien d\\u2019op\\u00e9rations au minimum peut-on lui faire afficher 2024\\u00a0? En la tapotant dans une vaine tentative de la remettre d\\u2019aplomb, la calculatrice s\\u2019est \\u00e0 nouveau d\\u00e9r\\u00e9gl\\u00e9e. Elle peut d\\u00e9sormais effectuer les trois op\\u00e9rations suivantes\\u00a0: +1, -1 et l\\u2019inversion de l\\u2019ordre des chiffres dans l\\u2019\\u00e9criture du nombre. Par exemple, partant de 12345 cette op\\u00e9ration renverra 54321, et partant de 310 elle renverra 13 (les z\\u00e9ros inutiles ne sont pas affich\\u00e9s). En l\\u2019allumant, elle affiche 0. En combien d\\u2019op\\u00e9rations au minimum peut-on lui faire afficher 2024\\u00a0?\"\n        ],\n        \"semantic_type\": \"\",\n        \"description\": \"\"\n      }\n    },\n    {\n      \"column\": \"Cat\\u00e9gorie\",\n      \"properties\": {\n        \"dtype\": \"category\",\n        \"num_unique_values\": 2,\n        \"samples\": [\n          \"Science\"\n        ],\n        \"semantic_type\": \"\",\n        \"description\": \"\"\n      }\n    }\n  ]\n}",
       "type": "dataframe"
      },
      "text/html": [
       "\n",
       "  <div id=\"df-d411570c-1b6f-4cf9-9851-35144900fe29\" class=\"colab-df-container\">\n",
       "    <div>\n",
       "<style scoped>\n",
       "    .dataframe tbody tr th:only-of-type {\n",
       "        vertical-align: middle;\n",
       "    }\n",
       "\n",
       "    .dataframe tbody tr th {\n",
       "        vertical-align: top;\n",
       "    }\n",
       "\n",
       "    .dataframe thead th {\n",
       "        text-align: right;\n",
       "    }\n",
       "</style>\n",
       "<table border=\"1\" class=\"dataframe\">\n",
       "  <thead>\n",
       "    <tr style=\"text-align: right;\">\n",
       "      <th></th>\n",
       "      <th>Titre</th>\n",
       "      <th>Résumé</th>\n",
       "      <th>Texte</th>\n",
       "      <th>Catégorie</th>\n",
       "    </tr>\n",
       "  </thead>\n",
       "  <tbody>\n",
       "    <tr>\n",
       "      <th>0</th>\n",
       "      <td>JO de Paris 2024 : les pépites histoires des e...</td>\n",
       "      <td></td>\n",
       "      <td>Exploits des athlètes, discussion avec les coa...</td>\n",
       "      <td>Sport</td>\n",
       "    </tr>\n",
       "    <tr>\n",
       "      <th>1</th>\n",
       "      <td>La calculatrice, premier numéro des énigmes ma...</td>\n",
       "      <td></td>\n",
       "      <td>Chaque semaine, le mathématicien Mickaël Launa...</td>\n",
       "      <td>Science</td>\n",
       "    </tr>\n",
       "    <tr>\n",
       "      <th>2</th>\n",
       "      <td>JO¬†2024¬†: des m√©dailles de bronze s‚Äôab√Æm...</td>\n",
       "      <td></td>\n",
       "      <td>Les nageurs fran√ßais Cl√©ment Secchi et Yohan...</td>\n",
       "      <td>Sport</td>\n",
       "    </tr>\n",
       "    <tr>\n",
       "      <th>3</th>\n",
       "      <td>Fortes pluies, vents violents… Mayotte placée ...</td>\n",
       "      <td></td>\n",
       "      <td>L’île, détruite en décembre par le cyclone Chi...</td>\n",
       "      <td>Sport</td>\n",
       "    </tr>\n",
       "    <tr>\n",
       "      <th>4</th>\n",
       "      <td>Le module spatial japonais « Moon Sniper » s’e...</td>\n",
       "      <td></td>\n",
       "      <td>Ce module spatial SLIM devait non seulement al...</td>\n",
       "      <td>Science</td>\n",
       "    </tr>\n",
       "  </tbody>\n",
       "</table>\n",
       "</div>\n",
       "    <div class=\"colab-df-buttons\">\n",
       "\n",
       "  <div class=\"colab-df-container\">\n",
       "    <button class=\"colab-df-convert\" onclick=\"convertToInteractive('df-d411570c-1b6f-4cf9-9851-35144900fe29')\"\n",
       "            title=\"Convert this dataframe to an interactive table.\"\n",
       "            style=\"display:none;\">\n",
       "\n",
       "  <svg xmlns=\"http://www.w3.org/2000/svg\" height=\"24px\" viewBox=\"0 -960 960 960\">\n",
       "    <path d=\"M120-120v-720h720v720H120Zm60-500h600v-160H180v160Zm220 220h160v-160H400v160Zm0 220h160v-160H400v160ZM180-400h160v-160H180v160Zm440 0h160v-160H620v160ZM180-180h160v-160H180v160Zm440 0h160v-160H620v160Z\"/>\n",
       "  </svg>\n",
       "    </button>\n",
       "\n",
       "  <style>\n",
       "    .colab-df-container {\n",
       "      display:flex;\n",
       "      gap: 12px;\n",
       "    }\n",
       "\n",
       "    .colab-df-convert {\n",
       "      background-color: #E8F0FE;\n",
       "      border: none;\n",
       "      border-radius: 50%;\n",
       "      cursor: pointer;\n",
       "      display: none;\n",
       "      fill: #1967D2;\n",
       "      height: 32px;\n",
       "      padding: 0 0 0 0;\n",
       "      width: 32px;\n",
       "    }\n",
       "\n",
       "    .colab-df-convert:hover {\n",
       "      background-color: #E2EBFA;\n",
       "      box-shadow: 0px 1px 2px rgba(60, 64, 67, 0.3), 0px 1px 3px 1px rgba(60, 64, 67, 0.15);\n",
       "      fill: #174EA6;\n",
       "    }\n",
       "\n",
       "    .colab-df-buttons div {\n",
       "      margin-bottom: 4px;\n",
       "    }\n",
       "\n",
       "    [theme=dark] .colab-df-convert {\n",
       "      background-color: #3B4455;\n",
       "      fill: #D2E3FC;\n",
       "    }\n",
       "\n",
       "    [theme=dark] .colab-df-convert:hover {\n",
       "      background-color: #434B5C;\n",
       "      box-shadow: 0px 1px 3px 1px rgba(0, 0, 0, 0.15);\n",
       "      filter: drop-shadow(0px 1px 2px rgba(0, 0, 0, 0.3));\n",
       "      fill: #FFFFFF;\n",
       "    }\n",
       "  </style>\n",
       "\n",
       "    <script>\n",
       "      const buttonEl =\n",
       "        document.querySelector('#df-d411570c-1b6f-4cf9-9851-35144900fe29 button.colab-df-convert');\n",
       "      buttonEl.style.display =\n",
       "        google.colab.kernel.accessAllowed ? 'block' : 'none';\n",
       "\n",
       "      async function convertToInteractive(key) {\n",
       "        const element = document.querySelector('#df-d411570c-1b6f-4cf9-9851-35144900fe29');\n",
       "        const dataTable =\n",
       "          await google.colab.kernel.invokeFunction('convertToInteractive',\n",
       "                                                    [key], {});\n",
       "        if (!dataTable) return;\n",
       "\n",
       "        const docLinkHtml = 'Like what you see? Visit the ' +\n",
       "          '<a target=\"_blank\" href=https://colab.research.google.com/notebooks/data_table.ipynb>data table notebook</a>'\n",
       "          + ' to learn more about interactive tables.';\n",
       "        element.innerHTML = '';\n",
       "        dataTable['output_type'] = 'display_data';\n",
       "        await google.colab.output.renderOutput(dataTable, element);\n",
       "        const docLink = document.createElement('div');\n",
       "        docLink.innerHTML = docLinkHtml;\n",
       "        element.appendChild(docLink);\n",
       "      }\n",
       "    </script>\n",
       "  </div>\n",
       "\n",
       "\n",
       "<div id=\"df-40e6f541-7968-47ae-b05c-2bdee370dd93\">\n",
       "  <button class=\"colab-df-quickchart\" onclick=\"quickchart('df-40e6f541-7968-47ae-b05c-2bdee370dd93')\"\n",
       "            title=\"Suggest charts\"\n",
       "            style=\"display:none;\">\n",
       "\n",
       "<svg xmlns=\"http://www.w3.org/2000/svg\" height=\"24px\"viewBox=\"0 0 24 24\"\n",
       "     width=\"24px\">\n",
       "    <g>\n",
       "        <path d=\"M19 3H5c-1.1 0-2 .9-2 2v14c0 1.1.9 2 2 2h14c1.1 0 2-.9 2-2V5c0-1.1-.9-2-2-2zM9 17H7v-7h2v7zm4 0h-2V7h2v10zm4 0h-2v-4h2v4z\"/>\n",
       "    </g>\n",
       "</svg>\n",
       "  </button>\n",
       "\n",
       "<style>\n",
       "  .colab-df-quickchart {\n",
       "      --bg-color: #E8F0FE;\n",
       "      --fill-color: #1967D2;\n",
       "      --hover-bg-color: #E2EBFA;\n",
       "      --hover-fill-color: #174EA6;\n",
       "      --disabled-fill-color: #AAA;\n",
       "      --disabled-bg-color: #DDD;\n",
       "  }\n",
       "\n",
       "  [theme=dark] .colab-df-quickchart {\n",
       "      --bg-color: #3B4455;\n",
       "      --fill-color: #D2E3FC;\n",
       "      --hover-bg-color: #434B5C;\n",
       "      --hover-fill-color: #FFFFFF;\n",
       "      --disabled-bg-color: #3B4455;\n",
       "      --disabled-fill-color: #666;\n",
       "  }\n",
       "\n",
       "  .colab-df-quickchart {\n",
       "    background-color: var(--bg-color);\n",
       "    border: none;\n",
       "    border-radius: 50%;\n",
       "    cursor: pointer;\n",
       "    display: none;\n",
       "    fill: var(--fill-color);\n",
       "    height: 32px;\n",
       "    padding: 0;\n",
       "    width: 32px;\n",
       "  }\n",
       "\n",
       "  .colab-df-quickchart:hover {\n",
       "    background-color: var(--hover-bg-color);\n",
       "    box-shadow: 0 1px 2px rgba(60, 64, 67, 0.3), 0 1px 3px 1px rgba(60, 64, 67, 0.15);\n",
       "    fill: var(--button-hover-fill-color);\n",
       "  }\n",
       "\n",
       "  .colab-df-quickchart-complete:disabled,\n",
       "  .colab-df-quickchart-complete:disabled:hover {\n",
       "    background-color: var(--disabled-bg-color);\n",
       "    fill: var(--disabled-fill-color);\n",
       "    box-shadow: none;\n",
       "  }\n",
       "\n",
       "  .colab-df-spinner {\n",
       "    border: 2px solid var(--fill-color);\n",
       "    border-color: transparent;\n",
       "    border-bottom-color: var(--fill-color);\n",
       "    animation:\n",
       "      spin 1s steps(1) infinite;\n",
       "  }\n",
       "\n",
       "  @keyframes spin {\n",
       "    0% {\n",
       "      border-color: transparent;\n",
       "      border-bottom-color: var(--fill-color);\n",
       "      border-left-color: var(--fill-color);\n",
       "    }\n",
       "    20% {\n",
       "      border-color: transparent;\n",
       "      border-left-color: var(--fill-color);\n",
       "      border-top-color: var(--fill-color);\n",
       "    }\n",
       "    30% {\n",
       "      border-color: transparent;\n",
       "      border-left-color: var(--fill-color);\n",
       "      border-top-color: var(--fill-color);\n",
       "      border-right-color: var(--fill-color);\n",
       "    }\n",
       "    40% {\n",
       "      border-color: transparent;\n",
       "      border-right-color: var(--fill-color);\n",
       "      border-top-color: var(--fill-color);\n",
       "    }\n",
       "    60% {\n",
       "      border-color: transparent;\n",
       "      border-right-color: var(--fill-color);\n",
       "    }\n",
       "    80% {\n",
       "      border-color: transparent;\n",
       "      border-right-color: var(--fill-color);\n",
       "      border-bottom-color: var(--fill-color);\n",
       "    }\n",
       "    90% {\n",
       "      border-color: transparent;\n",
       "      border-bottom-color: var(--fill-color);\n",
       "    }\n",
       "  }\n",
       "</style>\n",
       "\n",
       "  <script>\n",
       "    async function quickchart(key) {\n",
       "      const quickchartButtonEl =\n",
       "        document.querySelector('#' + key + ' button');\n",
       "      quickchartButtonEl.disabled = true;  // To prevent multiple clicks.\n",
       "      quickchartButtonEl.classList.add('colab-df-spinner');\n",
       "      try {\n",
       "        const charts = await google.colab.kernel.invokeFunction(\n",
       "            'suggestCharts', [key], {});\n",
       "      } catch (error) {\n",
       "        console.error('Error during call to suggestCharts:', error);\n",
       "      }\n",
       "      quickchartButtonEl.classList.remove('colab-df-spinner');\n",
       "      quickchartButtonEl.classList.add('colab-df-quickchart-complete');\n",
       "    }\n",
       "    (() => {\n",
       "      let quickchartButtonEl =\n",
       "        document.querySelector('#df-40e6f541-7968-47ae-b05c-2bdee370dd93 button');\n",
       "      quickchartButtonEl.style.display =\n",
       "        google.colab.kernel.accessAllowed ? 'block' : 'none';\n",
       "    })();\n",
       "  </script>\n",
       "</div>\n",
       "\n",
       "    </div>\n",
       "  </div>\n"
      ],
      "text/plain": [
       "                                               Titre Résumé  \\\n",
       "0  JO de Paris 2024 : les pépites histoires des e...          \n",
       "1  La calculatrice, premier numéro des énigmes ma...          \n",
       "2  JO¬†2024¬†: des m√©dailles de bronze s‚Äôab√Æm...          \n",
       "3  Fortes pluies, vents violents… Mayotte placée ...          \n",
       "4  Le module spatial japonais « Moon Sniper » s’e...          \n",
       "\n",
       "                                               Texte Catégorie  \n",
       "0  Exploits des athlètes, discussion avec les coa...     Sport  \n",
       "1  Chaque semaine, le mathématicien Mickaël Launa...   Science  \n",
       "2  Les nageurs fran√ßais Cl√©ment Secchi et Yohan...     Sport  \n",
       "3  L’île, détruite en décembre par le cyclone Chi...     Sport  \n",
       "4  Ce module spatial SLIM devait non seulement al...   Science  "
      ]
     },
     "metadata": {},
     "output_type": "display_data"
    }
   ],
   "source": [
    "display(article_df.head())"
   ]
  },
  {
   "cell_type": "markdown",
   "metadata": {
    "id": "wof-QzgGDcb3"
   },
   "source": [
    "# 8. Définition des ensembles de données"
   ]
  },
  {
   "cell_type": "markdown",
   "metadata": {
    "id": "bz92CEpmEf31"
   },
   "source": [
    "Pour évaluer l'impact de la longueur et de la combinaison des informations sur la performance de la classification, nous créons plusieurs versions du texte. Chaque version combine différentes parties des articles: uniquement le titre, le titre avec le résumé, et le titre avec le résumé et le texte complet."
   ]
  },
  {
   "cell_type": "code",
   "execution_count": null,
   "metadata": {
    "colab": {
     "base_uri": "https://localhost:8080/",
     "height": 414
    },
    "id": "2P7UEs8FDeKL",
    "outputId": "56bedb54-704f-453b-978f-a34a20d917da"
   },
   "outputs": [
    {
     "data": {
      "application/vnd.google.colaboratory.intrinsic+json": {
       "summary": "{\n  \"name\": \"display(article_df\",\n  \"rows\": 5,\n  \"fields\": [\n    {\n      \"column\": \"Titre\",\n      \"properties\": {\n        \"dtype\": \"string\",\n        \"num_unique_values\": 5,\n        \"samples\": [\n          \"La calculatrice, premier num\\u00e9ro des \\u00e9nigmes maths du \\u00ab\\u00a0Monde\\u00a0\\u00bb\",\n          \"Le module spatial japonais \\u00ab\\u00a0Moon Sniper\\u00a0\\u00bb s\\u2019est pos\\u00e9 sur la Lune\",\n          \"JO\\u00ac\\u20202024\\u00ac\\u2020: des m\\u221a\\u00a9dailles de bronze s\\u201a\\u00c4\\u00f4ab\\u221a\\u00c6ment, la Monnaie de Paris promet de les remplacer d\\u221a\\u00a9but\\u00ac\\u20202025\"\n        ],\n        \"semantic_type\": \"\",\n        \"description\": \"\"\n      }\n    },\n    {\n      \"column\": \"R\\u00e9sum\\u00e9\",\n      \"properties\": {\n        \"dtype\": \"object\",\n        \"num_unique_values\": 1,\n        \"samples\": [\n          \"\"\n        ],\n        \"semantic_type\": \"\",\n        \"description\": \"\"\n      }\n    },\n    {\n      \"column\": \"Texte\",\n      \"properties\": {\n        \"dtype\": \"string\",\n        \"num_unique_values\": 5,\n        \"samples\": [\n          \"Chaque semaine, le math\\u00e9maticien Micka\\u00ebl Launay vous soumet un probl\\u00e8me. A vous de jouer\\u00a0!  Apr\\u00e8s le d\\u00e9c\\u00e8s de Gilles Cohen, qui pendant vingt-six ans proposa aux lecteurs du Monde son \\u00ab\\u00a0Affaire de logique\\u00a0\\u00bb hebdomadaire, Micka\\u00ebl Launay a accept\\u00e9 de prendre la rel\\u00e8ve et d\\u2019offrir, chaque semaine, une \\u00e9nigme math\\u00e9matique. Il le fera \\u00e0 sa mani\\u00e8re\\u00a0: joyeuse, ludique, d\\u00e9cal\\u00e9e. Normalien, agr\\u00e9g\\u00e9, Micka\\u00ebl Launay aurait pu \\u00eatre enseignant ou chercheur. Il a choisi la voie p\\u00e9rilleuse de la vulgarisation scientifique. \\u00ab\\u00a0Montreur de maths\\u00a0\\u00bb, r\\u00e9sume-t-il. Son blog, sa cha\\u00eene YouTube Micmaths, ses livres, ses conf\\u00e9rences sont devenus des passages presque oblig\\u00e9s pour les amoureux de la discipline, mais aussi une seconde chance pour les r\\u00e9fractaires. Qu\\u2019il y aborde des probl\\u00e8mes classiques de fa\\u00e7on originale ou d\\u00e9niche des \\u00e9nigmes dans nos actes quotidiens les plus ordinaires, il conserve toujours un m\\u00eame cap\\u00a0: le plaisir. Celui du jeu, des histoires, des surprises. Un regard d\\u2019enfant que nous invitons les lecteurs du Monde \\u00e0 partager avec lui. Une vieille calculatrice ne peut plus effectuer que les quatre op\\u00e9rations suivantes\\u00a0: +2003, -2003, \\u00d72003 et \\u00f72003. En l\\u2019allumant, la calculatrice affiche 0. En combien d\\u2019op\\u00e9rations au minimum peut-on lui faire afficher 2004\\u00a0? Cette \\u00e9nigme, \\u00e9crite il y a plus de vingt ans, est ma premi\\u00e8re \\u00e9nigme \\u00e0 avoir \\u00e9t\\u00e9 publi\\u00e9e. Il y avait alors un club de jeux math\\u00e9matiques dans mon lyc\\u00e9e, men\\u00e9 par Dominique Souder, math\\u00e9magicien agissant sous la couverture de prof de maths. J\\u2019aimais r\\u00e9soudre les \\u00e9nigmes qu\\u2019il nous posait et j\\u2019aimais en inventer \\u00e0 mon tour. Un jour, sans pr\\u00e9venir, il m\\u2019annon\\u00e7a avoir envoy\\u00e9 une s\\u00e9lection de nos \\u00e9nigmes \\u00e0 Gilles Cohen, directeur des \\u00e9ditions P\\u00f4le et figure incontournable du monde des math\\u00e9matiques r\\u00e9cr\\u00e9atives. Et ce dernier avait accept\\u00e9 de les publier. L\\u2019ann\\u00e9e suivante, un petit livre paraissait et, sur la premi\\u00e8re page, une histoire de vieille calculatrice. Ce fut mon premier pas dans l\\u2019univers de la vulgarisation et de la diffusion des math\\u00e9matiques. Depuis 1997, Gilles Cohen menait avec Elisabeth Busser la rubrique \\u00ab\\u00a0Affaire de logique\\u00a0\\u00bb, chaque semaine, dans Le Monde. Il la poursuivra jusqu\\u2019\\u00e0 sa disparition, l\\u2019ann\\u00e9e derni\\u00e8re. C\\u2019est peu dire qu\\u2019il s\\u2019agit d\\u2019un honneur pour moi d\\u2019essayer, \\u00e0 sa suite, de vous amuser chaque semaine avec quelques \\u00e9nigmes math\\u00e9matiques. Les probl\\u00e8mes de vieilles calculatrices un peu cass\\u00e9es sont des classiques renouvelables \\u00e0 l\\u2019infini. Selon les op\\u00e9rations autoris\\u00e9es par leurs m\\u00e9canismes d\\u00e9faillants, elles nous entra\\u00eenent dans un labyrinthe de nombres et poussent notre ing\\u00e9niosit\\u00e9 dans ses retranchements. Quels raccourcis peut-on emprunter\\u00a0? Quelles impasses \\u00e9viter\\u00a0? Des quantit\\u00e9s proches peuvent soudain voir un mur se dresser entre elles, tandis que les plus lointaines se rapprochent. Mais tr\\u00eave de bavardages, \\u00e0 vous de jouer. Apr\\u00e8s avoir r\\u00e9solu la premi\\u00e8re \\u00e9nigme, en voici deux autres par ordre de difficult\\u00e9. Une vieille calculatrice ne peut plus effectuer que les trois op\\u00e9rations suivantes\\u00a0: +1, -1 et l\\u2019op\\u00e9ration \\u00ab\\u00a0au carr\\u00e9\\u00a0\\u00bb, qui renvoie le r\\u00e9sultat de la multiplication du nombre affich\\u00e9 par lui-m\\u00eame (par exemple, 5 renverra 5\\u00b2 soit 25). En l\\u2019allumant, elle affiche 0. En combien d\\u2019op\\u00e9rations au minimum peut-on lui faire afficher 2024\\u00a0? En la tapotant dans une vaine tentative de la remettre d\\u2019aplomb, la calculatrice s\\u2019est \\u00e0 nouveau d\\u00e9r\\u00e9gl\\u00e9e. Elle peut d\\u00e9sormais effectuer les trois op\\u00e9rations suivantes\\u00a0: +1, -1 et l\\u2019inversion de l\\u2019ordre des chiffres dans l\\u2019\\u00e9criture du nombre. Par exemple, partant de 12345 cette op\\u00e9ration renverra 54321, et partant de 310 elle renverra 13 (les z\\u00e9ros inutiles ne sont pas affich\\u00e9s). En l\\u2019allumant, elle affiche 0. En combien d\\u2019op\\u00e9rations au minimum peut-on lui faire afficher 2024\\u00a0?\"\n        ],\n        \"semantic_type\": \"\",\n        \"description\": \"\"\n      }\n    },\n    {\n      \"column\": \"Cat\\u00e9gorie\",\n      \"properties\": {\n        \"dtype\": \"category\",\n        \"num_unique_values\": 2,\n        \"samples\": [\n          \"Science\"\n        ],\n        \"semantic_type\": \"\",\n        \"description\": \"\"\n      }\n    },\n    {\n      \"column\": \"Version1\",\n      \"properties\": {\n        \"dtype\": \"string\",\n        \"num_unique_values\": 5,\n        \"samples\": [\n          \"La calculatrice, premier num\\u00e9ro des \\u00e9nigmes maths du \\u00ab\\u00a0Monde\\u00a0\\u00bb\"\n        ],\n        \"semantic_type\": \"\",\n        \"description\": \"\"\n      }\n    },\n    {\n      \"column\": \"Version2\",\n      \"properties\": {\n        \"dtype\": \"string\",\n        \"num_unique_values\": 5,\n        \"samples\": [\n          \"La calculatrice, premier num\\u00e9ro des \\u00e9nigmes maths du \\u00ab\\u00a0Monde\\u00a0\\u00bb \"\n        ],\n        \"semantic_type\": \"\",\n        \"description\": \"\"\n      }\n    },\n    {\n      \"column\": \"Version3\",\n      \"properties\": {\n        \"dtype\": \"string\",\n        \"num_unique_values\": 5,\n        \"samples\": [\n          \"La calculatrice, premier num\\u00e9ro des \\u00e9nigmes maths du \\u00ab\\u00a0Monde\\u00a0\\u00bb  Chaque semaine, le math\\u00e9maticien Micka\\u00ebl Launay vous soumet un probl\\u00e8me. A vous de jouer\\u00a0!  Apr\\u00e8s le d\\u00e9c\\u00e8s de Gilles Cohen, qui pendant vingt-six ans proposa aux lecteurs du Monde son \\u00ab\\u00a0Affaire de logique\\u00a0\\u00bb hebdomadaire, Micka\\u00ebl Launay a accept\\u00e9 de prendre la rel\\u00e8ve et d\\u2019offrir, chaque semaine, une \\u00e9nigme math\\u00e9matique. Il le fera \\u00e0 sa mani\\u00e8re\\u00a0: joyeuse, ludique, d\\u00e9cal\\u00e9e. Normalien, agr\\u00e9g\\u00e9, Micka\\u00ebl Launay aurait pu \\u00eatre enseignant ou chercheur. Il a choisi la voie p\\u00e9rilleuse de la vulgarisation scientifique. \\u00ab\\u00a0Montreur de maths\\u00a0\\u00bb, r\\u00e9sume-t-il. Son blog, sa cha\\u00eene YouTube Micmaths, ses livres, ses conf\\u00e9rences sont devenus des passages presque oblig\\u00e9s pour les amoureux de la discipline, mais aussi une seconde chance pour les r\\u00e9fractaires. Qu\\u2019il y aborde des probl\\u00e8mes classiques de fa\\u00e7on originale ou d\\u00e9niche des \\u00e9nigmes dans nos actes quotidiens les plus ordinaires, il conserve toujours un m\\u00eame cap\\u00a0: le plaisir. Celui du jeu, des histoires, des surprises. Un regard d\\u2019enfant que nous invitons les lecteurs du Monde \\u00e0 partager avec lui. Une vieille calculatrice ne peut plus effectuer que les quatre op\\u00e9rations suivantes\\u00a0: +2003, -2003, \\u00d72003 et \\u00f72003. En l\\u2019allumant, la calculatrice affiche 0. En combien d\\u2019op\\u00e9rations au minimum peut-on lui faire afficher 2004\\u00a0? Cette \\u00e9nigme, \\u00e9crite il y a plus de vingt ans, est ma premi\\u00e8re \\u00e9nigme \\u00e0 avoir \\u00e9t\\u00e9 publi\\u00e9e. Il y avait alors un club de jeux math\\u00e9matiques dans mon lyc\\u00e9e, men\\u00e9 par Dominique Souder, math\\u00e9magicien agissant sous la couverture de prof de maths. J\\u2019aimais r\\u00e9soudre les \\u00e9nigmes qu\\u2019il nous posait et j\\u2019aimais en inventer \\u00e0 mon tour. Un jour, sans pr\\u00e9venir, il m\\u2019annon\\u00e7a avoir envoy\\u00e9 une s\\u00e9lection de nos \\u00e9nigmes \\u00e0 Gilles Cohen, directeur des \\u00e9ditions P\\u00f4le et figure incontournable du monde des math\\u00e9matiques r\\u00e9cr\\u00e9atives. Et ce dernier avait accept\\u00e9 de les publier. L\\u2019ann\\u00e9e suivante, un petit livre paraissait et, sur la premi\\u00e8re page, une histoire de vieille calculatrice. Ce fut mon premier pas dans l\\u2019univers de la vulgarisation et de la diffusion des math\\u00e9matiques. Depuis 1997, Gilles Cohen menait avec Elisabeth Busser la rubrique \\u00ab\\u00a0Affaire de logique\\u00a0\\u00bb, chaque semaine, dans Le Monde. Il la poursuivra jusqu\\u2019\\u00e0 sa disparition, l\\u2019ann\\u00e9e derni\\u00e8re. C\\u2019est peu dire qu\\u2019il s\\u2019agit d\\u2019un honneur pour moi d\\u2019essayer, \\u00e0 sa suite, de vous amuser chaque semaine avec quelques \\u00e9nigmes math\\u00e9matiques. Les probl\\u00e8mes de vieilles calculatrices un peu cass\\u00e9es sont des classiques renouvelables \\u00e0 l\\u2019infini. Selon les op\\u00e9rations autoris\\u00e9es par leurs m\\u00e9canismes d\\u00e9faillants, elles nous entra\\u00eenent dans un labyrinthe de nombres et poussent notre ing\\u00e9niosit\\u00e9 dans ses retranchements. Quels raccourcis peut-on emprunter\\u00a0? Quelles impasses \\u00e9viter\\u00a0? Des quantit\\u00e9s proches peuvent soudain voir un mur se dresser entre elles, tandis que les plus lointaines se rapprochent. Mais tr\\u00eave de bavardages, \\u00e0 vous de jouer. Apr\\u00e8s avoir r\\u00e9solu la premi\\u00e8re \\u00e9nigme, en voici deux autres par ordre de difficult\\u00e9. Une vieille calculatrice ne peut plus effectuer que les trois op\\u00e9rations suivantes\\u00a0: +1, -1 et l\\u2019op\\u00e9ration \\u00ab\\u00a0au carr\\u00e9\\u00a0\\u00bb, qui renvoie le r\\u00e9sultat de la multiplication du nombre affich\\u00e9 par lui-m\\u00eame (par exemple, 5 renverra 5\\u00b2 soit 25). En l\\u2019allumant, elle affiche 0. En combien d\\u2019op\\u00e9rations au minimum peut-on lui faire afficher 2024\\u00a0? En la tapotant dans une vaine tentative de la remettre d\\u2019aplomb, la calculatrice s\\u2019est \\u00e0 nouveau d\\u00e9r\\u00e9gl\\u00e9e. Elle peut d\\u00e9sormais effectuer les trois op\\u00e9rations suivantes\\u00a0: +1, -1 et l\\u2019inversion de l\\u2019ordre des chiffres dans l\\u2019\\u00e9criture du nombre. Par exemple, partant de 12345 cette op\\u00e9ration renverra 54321, et partant de 310 elle renverra 13 (les z\\u00e9ros inutiles ne sont pas affich\\u00e9s). En l\\u2019allumant, elle affiche 0. En combien d\\u2019op\\u00e9rations au minimum peut-on lui faire afficher 2024\\u00a0?\"\n        ],\n        \"semantic_type\": \"\",\n        \"description\": \"\"\n      }\n    }\n  ]\n}",
       "type": "dataframe"
      },
      "text/html": [
       "\n",
       "  <div id=\"df-90b613e6-31a3-4d99-a3d1-52876d7e3951\" class=\"colab-df-container\">\n",
       "    <div>\n",
       "<style scoped>\n",
       "    .dataframe tbody tr th:only-of-type {\n",
       "        vertical-align: middle;\n",
       "    }\n",
       "\n",
       "    .dataframe tbody tr th {\n",
       "        vertical-align: top;\n",
       "    }\n",
       "\n",
       "    .dataframe thead th {\n",
       "        text-align: right;\n",
       "    }\n",
       "</style>\n",
       "<table border=\"1\" class=\"dataframe\">\n",
       "  <thead>\n",
       "    <tr style=\"text-align: right;\">\n",
       "      <th></th>\n",
       "      <th>Titre</th>\n",
       "      <th>Résumé</th>\n",
       "      <th>Texte</th>\n",
       "      <th>Catégorie</th>\n",
       "      <th>Version1</th>\n",
       "      <th>Version2</th>\n",
       "      <th>Version3</th>\n",
       "    </tr>\n",
       "  </thead>\n",
       "  <tbody>\n",
       "    <tr>\n",
       "      <th>0</th>\n",
       "      <td>JO de Paris 2024 : les pépites histoires des e...</td>\n",
       "      <td></td>\n",
       "      <td>Exploits des athlètes, discussion avec les coa...</td>\n",
       "      <td>Sport</td>\n",
       "      <td>JO de Paris 2024 : les pépites histoires des e...</td>\n",
       "      <td>JO de Paris 2024 : les pépites histoires des e...</td>\n",
       "      <td>JO de Paris 2024 : les pépites histoires des e...</td>\n",
       "    </tr>\n",
       "    <tr>\n",
       "      <th>1</th>\n",
       "      <td>La calculatrice, premier numéro des énigmes ma...</td>\n",
       "      <td></td>\n",
       "      <td>Chaque semaine, le mathématicien Mickaël Launa...</td>\n",
       "      <td>Science</td>\n",
       "      <td>La calculatrice, premier numéro des énigmes ma...</td>\n",
       "      <td>La calculatrice, premier numéro des énigmes ma...</td>\n",
       "      <td>La calculatrice, premier numéro des énigmes ma...</td>\n",
       "    </tr>\n",
       "    <tr>\n",
       "      <th>2</th>\n",
       "      <td>JO¬†2024¬†: des m√©dailles de bronze s‚Äôab√Æm...</td>\n",
       "      <td></td>\n",
       "      <td>Les nageurs fran√ßais Cl√©ment Secchi et Yohan...</td>\n",
       "      <td>Sport</td>\n",
       "      <td>JO¬†2024¬†: des m√©dailles de bronze s‚Äôab√Æm...</td>\n",
       "      <td>JO¬†2024¬†: des m√©dailles de bronze s‚Äôab√Æm...</td>\n",
       "      <td>JO¬†2024¬†: des m√©dailles de bronze s‚Äôab√Æm...</td>\n",
       "    </tr>\n",
       "    <tr>\n",
       "      <th>3</th>\n",
       "      <td>Fortes pluies, vents violents… Mayotte placée ...</td>\n",
       "      <td></td>\n",
       "      <td>L’île, détruite en décembre par le cyclone Chi...</td>\n",
       "      <td>Sport</td>\n",
       "      <td>Fortes pluies, vents violents… Mayotte placée ...</td>\n",
       "      <td>Fortes pluies, vents violents… Mayotte placée ...</td>\n",
       "      <td>Fortes pluies, vents violents… Mayotte placée ...</td>\n",
       "    </tr>\n",
       "    <tr>\n",
       "      <th>4</th>\n",
       "      <td>Le module spatial japonais « Moon Sniper » s’e...</td>\n",
       "      <td></td>\n",
       "      <td>Ce module spatial SLIM devait non seulement al...</td>\n",
       "      <td>Science</td>\n",
       "      <td>Le module spatial japonais « Moon Sniper » s’e...</td>\n",
       "      <td>Le module spatial japonais « Moon Sniper » s’e...</td>\n",
       "      <td>Le module spatial japonais « Moon Sniper » s’e...</td>\n",
       "    </tr>\n",
       "  </tbody>\n",
       "</table>\n",
       "</div>\n",
       "    <div class=\"colab-df-buttons\">\n",
       "\n",
       "  <div class=\"colab-df-container\">\n",
       "    <button class=\"colab-df-convert\" onclick=\"convertToInteractive('df-90b613e6-31a3-4d99-a3d1-52876d7e3951')\"\n",
       "            title=\"Convert this dataframe to an interactive table.\"\n",
       "            style=\"display:none;\">\n",
       "\n",
       "  <svg xmlns=\"http://www.w3.org/2000/svg\" height=\"24px\" viewBox=\"0 -960 960 960\">\n",
       "    <path d=\"M120-120v-720h720v720H120Zm60-500h600v-160H180v160Zm220 220h160v-160H400v160Zm0 220h160v-160H400v160ZM180-400h160v-160H180v160Zm440 0h160v-160H620v160ZM180-180h160v-160H180v160Zm440 0h160v-160H620v160Z\"/>\n",
       "  </svg>\n",
       "    </button>\n",
       "\n",
       "  <style>\n",
       "    .colab-df-container {\n",
       "      display:flex;\n",
       "      gap: 12px;\n",
       "    }\n",
       "\n",
       "    .colab-df-convert {\n",
       "      background-color: #E8F0FE;\n",
       "      border: none;\n",
       "      border-radius: 50%;\n",
       "      cursor: pointer;\n",
       "      display: none;\n",
       "      fill: #1967D2;\n",
       "      height: 32px;\n",
       "      padding: 0 0 0 0;\n",
       "      width: 32px;\n",
       "    }\n",
       "\n",
       "    .colab-df-convert:hover {\n",
       "      background-color: #E2EBFA;\n",
       "      box-shadow: 0px 1px 2px rgba(60, 64, 67, 0.3), 0px 1px 3px 1px rgba(60, 64, 67, 0.15);\n",
       "      fill: #174EA6;\n",
       "    }\n",
       "\n",
       "    .colab-df-buttons div {\n",
       "      margin-bottom: 4px;\n",
       "    }\n",
       "\n",
       "    [theme=dark] .colab-df-convert {\n",
       "      background-color: #3B4455;\n",
       "      fill: #D2E3FC;\n",
       "    }\n",
       "\n",
       "    [theme=dark] .colab-df-convert:hover {\n",
       "      background-color: #434B5C;\n",
       "      box-shadow: 0px 1px 3px 1px rgba(0, 0, 0, 0.15);\n",
       "      filter: drop-shadow(0px 1px 2px rgba(0, 0, 0, 0.3));\n",
       "      fill: #FFFFFF;\n",
       "    }\n",
       "  </style>\n",
       "\n",
       "    <script>\n",
       "      const buttonEl =\n",
       "        document.querySelector('#df-90b613e6-31a3-4d99-a3d1-52876d7e3951 button.colab-df-convert');\n",
       "      buttonEl.style.display =\n",
       "        google.colab.kernel.accessAllowed ? 'block' : 'none';\n",
       "\n",
       "      async function convertToInteractive(key) {\n",
       "        const element = document.querySelector('#df-90b613e6-31a3-4d99-a3d1-52876d7e3951');\n",
       "        const dataTable =\n",
       "          await google.colab.kernel.invokeFunction('convertToInteractive',\n",
       "                                                    [key], {});\n",
       "        if (!dataTable) return;\n",
       "\n",
       "        const docLinkHtml = 'Like what you see? Visit the ' +\n",
       "          '<a target=\"_blank\" href=https://colab.research.google.com/notebooks/data_table.ipynb>data table notebook</a>'\n",
       "          + ' to learn more about interactive tables.';\n",
       "        element.innerHTML = '';\n",
       "        dataTable['output_type'] = 'display_data';\n",
       "        await google.colab.output.renderOutput(dataTable, element);\n",
       "        const docLink = document.createElement('div');\n",
       "        docLink.innerHTML = docLinkHtml;\n",
       "        element.appendChild(docLink);\n",
       "      }\n",
       "    </script>\n",
       "  </div>\n",
       "\n",
       "\n",
       "<div id=\"df-1ac8f2a8-f331-4865-a82e-d48a417e066f\">\n",
       "  <button class=\"colab-df-quickchart\" onclick=\"quickchart('df-1ac8f2a8-f331-4865-a82e-d48a417e066f')\"\n",
       "            title=\"Suggest charts\"\n",
       "            style=\"display:none;\">\n",
       "\n",
       "<svg xmlns=\"http://www.w3.org/2000/svg\" height=\"24px\"viewBox=\"0 0 24 24\"\n",
       "     width=\"24px\">\n",
       "    <g>\n",
       "        <path d=\"M19 3H5c-1.1 0-2 .9-2 2v14c0 1.1.9 2 2 2h14c1.1 0 2-.9 2-2V5c0-1.1-.9-2-2-2zM9 17H7v-7h2v7zm4 0h-2V7h2v10zm4 0h-2v-4h2v4z\"/>\n",
       "    </g>\n",
       "</svg>\n",
       "  </button>\n",
       "\n",
       "<style>\n",
       "  .colab-df-quickchart {\n",
       "      --bg-color: #E8F0FE;\n",
       "      --fill-color: #1967D2;\n",
       "      --hover-bg-color: #E2EBFA;\n",
       "      --hover-fill-color: #174EA6;\n",
       "      --disabled-fill-color: #AAA;\n",
       "      --disabled-bg-color: #DDD;\n",
       "  }\n",
       "\n",
       "  [theme=dark] .colab-df-quickchart {\n",
       "      --bg-color: #3B4455;\n",
       "      --fill-color: #D2E3FC;\n",
       "      --hover-bg-color: #434B5C;\n",
       "      --hover-fill-color: #FFFFFF;\n",
       "      --disabled-bg-color: #3B4455;\n",
       "      --disabled-fill-color: #666;\n",
       "  }\n",
       "\n",
       "  .colab-df-quickchart {\n",
       "    background-color: var(--bg-color);\n",
       "    border: none;\n",
       "    border-radius: 50%;\n",
       "    cursor: pointer;\n",
       "    display: none;\n",
       "    fill: var(--fill-color);\n",
       "    height: 32px;\n",
       "    padding: 0;\n",
       "    width: 32px;\n",
       "  }\n",
       "\n",
       "  .colab-df-quickchart:hover {\n",
       "    background-color: var(--hover-bg-color);\n",
       "    box-shadow: 0 1px 2px rgba(60, 64, 67, 0.3), 0 1px 3px 1px rgba(60, 64, 67, 0.15);\n",
       "    fill: var(--button-hover-fill-color);\n",
       "  }\n",
       "\n",
       "  .colab-df-quickchart-complete:disabled,\n",
       "  .colab-df-quickchart-complete:disabled:hover {\n",
       "    background-color: var(--disabled-bg-color);\n",
       "    fill: var(--disabled-fill-color);\n",
       "    box-shadow: none;\n",
       "  }\n",
       "\n",
       "  .colab-df-spinner {\n",
       "    border: 2px solid var(--fill-color);\n",
       "    border-color: transparent;\n",
       "    border-bottom-color: var(--fill-color);\n",
       "    animation:\n",
       "      spin 1s steps(1) infinite;\n",
       "  }\n",
       "\n",
       "  @keyframes spin {\n",
       "    0% {\n",
       "      border-color: transparent;\n",
       "      border-bottom-color: var(--fill-color);\n",
       "      border-left-color: var(--fill-color);\n",
       "    }\n",
       "    20% {\n",
       "      border-color: transparent;\n",
       "      border-left-color: var(--fill-color);\n",
       "      border-top-color: var(--fill-color);\n",
       "    }\n",
       "    30% {\n",
       "      border-color: transparent;\n",
       "      border-left-color: var(--fill-color);\n",
       "      border-top-color: var(--fill-color);\n",
       "      border-right-color: var(--fill-color);\n",
       "    }\n",
       "    40% {\n",
       "      border-color: transparent;\n",
       "      border-right-color: var(--fill-color);\n",
       "      border-top-color: var(--fill-color);\n",
       "    }\n",
       "    60% {\n",
       "      border-color: transparent;\n",
       "      border-right-color: var(--fill-color);\n",
       "    }\n",
       "    80% {\n",
       "      border-color: transparent;\n",
       "      border-right-color: var(--fill-color);\n",
       "      border-bottom-color: var(--fill-color);\n",
       "    }\n",
       "    90% {\n",
       "      border-color: transparent;\n",
       "      border-bottom-color: var(--fill-color);\n",
       "    }\n",
       "  }\n",
       "</style>\n",
       "\n",
       "  <script>\n",
       "    async function quickchart(key) {\n",
       "      const quickchartButtonEl =\n",
       "        document.querySelector('#' + key + ' button');\n",
       "      quickchartButtonEl.disabled = true;  // To prevent multiple clicks.\n",
       "      quickchartButtonEl.classList.add('colab-df-spinner');\n",
       "      try {\n",
       "        const charts = await google.colab.kernel.invokeFunction(\n",
       "            'suggestCharts', [key], {});\n",
       "      } catch (error) {\n",
       "        console.error('Error during call to suggestCharts:', error);\n",
       "      }\n",
       "      quickchartButtonEl.classList.remove('colab-df-spinner');\n",
       "      quickchartButtonEl.classList.add('colab-df-quickchart-complete');\n",
       "    }\n",
       "    (() => {\n",
       "      let quickchartButtonEl =\n",
       "        document.querySelector('#df-1ac8f2a8-f331-4865-a82e-d48a417e066f button');\n",
       "      quickchartButtonEl.style.display =\n",
       "        google.colab.kernel.accessAllowed ? 'block' : 'none';\n",
       "    })();\n",
       "  </script>\n",
       "</div>\n",
       "\n",
       "    </div>\n",
       "  </div>\n"
      ],
      "text/plain": [
       "                                               Titre Résumé  \\\n",
       "0  JO de Paris 2024 : les pépites histoires des e...          \n",
       "1  La calculatrice, premier numéro des énigmes ma...          \n",
       "2  JO¬†2024¬†: des m√©dailles de bronze s‚Äôab√Æm...          \n",
       "3  Fortes pluies, vents violents… Mayotte placée ...          \n",
       "4  Le module spatial japonais « Moon Sniper » s’e...          \n",
       "\n",
       "                                               Texte Catégorie  \\\n",
       "0  Exploits des athlètes, discussion avec les coa...     Sport   \n",
       "1  Chaque semaine, le mathématicien Mickaël Launa...   Science   \n",
       "2  Les nageurs fran√ßais Cl√©ment Secchi et Yohan...     Sport   \n",
       "3  L’île, détruite en décembre par le cyclone Chi...     Sport   \n",
       "4  Ce module spatial SLIM devait non seulement al...   Science   \n",
       "\n",
       "                                            Version1  \\\n",
       "0  JO de Paris 2024 : les pépites histoires des e...   \n",
       "1  La calculatrice, premier numéro des énigmes ma...   \n",
       "2  JO¬†2024¬†: des m√©dailles de bronze s‚Äôab√Æm...   \n",
       "3  Fortes pluies, vents violents… Mayotte placée ...   \n",
       "4  Le module spatial japonais « Moon Sniper » s’e...   \n",
       "\n",
       "                                            Version2  \\\n",
       "0  JO de Paris 2024 : les pépites histoires des e...   \n",
       "1  La calculatrice, premier numéro des énigmes ma...   \n",
       "2  JO¬†2024¬†: des m√©dailles de bronze s‚Äôab√Æm...   \n",
       "3  Fortes pluies, vents violents… Mayotte placée ...   \n",
       "4  Le module spatial japonais « Moon Sniper » s’e...   \n",
       "\n",
       "                                            Version3  \n",
       "0  JO de Paris 2024 : les pépites histoires des e...  \n",
       "1  La calculatrice, premier numéro des énigmes ma...  \n",
       "2  JO¬†2024¬†: des m√©dailles de bronze s‚Äôab√Æm...  \n",
       "3  Fortes pluies, vents violents… Mayotte placée ...  \n",
       "4  Le module spatial japonais « Moon Sniper » s’e...  "
      ]
     },
     "metadata": {},
     "output_type": "display_data"
    }
   ],
   "source": [
    "# # Création des différentes versions du texte en combinant les colonnes \"Titre\", \"Résumé\" et \"Texte\"\n",
    "article_df[\"Version1\"] = article_df[\"Titre\"]\n",
    "article_df[\"Version2\"] = article_df[\"Titre\"] + \" \" + article_df[\"Résumé\"]\n",
    "article_df[\"Version3\"] = article_df[\"Titre\"] + \" \" + article_df[\"Résumé\"] + \" \" + article_df[\"Texte\"]\n",
    "display(article_df.head())"
   ]
  },
  {
   "cell_type": "markdown",
   "metadata": {
    "id": "Q-ucJilXDp-F"
   },
   "source": [
    "# 9. Séparation entraînement/test"
   ]
  },
  {
   "cell_type": "markdown",
   "metadata": {
    "id": "UvtHdXO0E-yL"
   },
   "source": [
    "Les données sont ensuite divisées en un ensemble d'entraînement et un ensemble de test. L'ensemble d'entraînement sera utilisé pour apprendre les modèles, tandis que l'ensemble de test permettra d’évaluer leur performance. Nous choisissons une proportion de 30 % pour l’ensemble de test afin de garantir une évaluation robuste tout en préservant une quantité suffisante de données pour l'apprentissage."
   ]
  },
  {
   "cell_type": "code",
   "execution_count": null,
   "metadata": {
    "id": "ku56uifVDwmQ"
   },
   "outputs": [],
   "source": [
    "# Séparation entraînement/test\n",
    "X_train, X_test, y_train, y_test = train_test_split(article_df[\"Texte\"], article_df[\"Catégorie\"], test_size=0.3, random_state=42)\n"
   ]
  },
  {
   "cell_type": "markdown",
   "metadata": {
    "id": "MluQIlwfSX8H"
   },
   "source": [
    "#  10. Transformation TF-IDF"
   ]
  },
  {
   "cell_type": "markdown",
   "metadata": {
    "id": "QQSFk6N6FnAR"
   },
   "source": [
    "Les articles textuels doivent être convertis en une représentation numérique que les modèles de machine learning peuvent comprendre. Pour ce faire, nous appliquons la méthode TF-IDF (Term Frequency-Inverse Document Frequency), qui attribue un poids à chaque mot en fonction de sa fréquence dans un article et de sa rareté dans l'ensemble des documents. Cette transformation nous permet de transformer le texte brut en une matrice de caractéristiques que nous pouvons utiliser pour entraîner nos modèles."
   ]
  },
  {
   "cell_type": "code",
   "execution_count": null,
   "metadata": {
    "id": "BZvzjSFQE0Cc"
   },
   "outputs": [],
   "source": [
    "# Application de TF-IDF pour vectoriser les données d'entraînement et de test\n",
    "tfidf_vectorizer = TfidfVectorizer()\n",
    "X_train_tfidf = tfidf_vectorizer.fit_transform(X_train)\n",
    "X_test_tfidf = tfidf_vectorizer.transform(X_test)\n"
   ]
  },
  {
   "cell_type": "markdown",
   "metadata": {
    "id": "3eUBmbE-Sh5u"
   },
   "source": [
    "# 11. Choix des modèles de classification"
   ]
  },
  {
   "cell_type": "markdown",
   "metadata": {
    "id": "erMz30wyF6YK"
   },
   "source": [
    "Nous testons plusieurs modèles de classification pour déterminer lequel donne les meilleurs résultats sur nos données. Les modèles choisis sont le Bayes Naïf, le SVM, la Forêt Aléatoire et la Régression Logistique, qui sont bien adaptés à la classification de texte."
   ]
  },
  {
   "cell_type": "code",
   "execution_count": null,
   "metadata": {
    "id": "8f5mPBsLSoZw"
   },
   "outputs": [],
   "source": [
    "# Définir différents modèles de classification à tester\n",
    "model_choices = {\n",
    "    \"Bayes Naïf\": MultinomialNB(),\n",
    "    \"SVM\": SVC(probability=True),\n",
    "    \"Forêt Aléatoire\": RandomForestClassifier(n_estimators=100),\n",
    "    \"Régression Logistique\": LogisticRegression(max_iter=1000)\n",
    "}\n",
    "\n",
    "performance_results = {}\n"
   ]
  },
  {
   "cell_type": "markdown",
   "metadata": {
    "id": "QLKxXlJRS542"
   },
   "source": [
    "# 12. Entraînement des modèles et évaluation"
   ]
  },
  {
   "cell_type": "code",
   "execution_count": null,
   "metadata": {
    "colab": {
     "base_uri": "https://localhost:8080/"
    },
    "id": "EpU_BqoDTBlc",
    "outputId": "2a8c72a4-2670-4101-f51d-6510b056e660"
   },
   "outputs": [
    {
     "name": "stdout",
     "output_type": "stream",
     "text": [
      "\n",
      "Modèle testé : Bayes Naïf\n",
      "              precision    recall  f1-score   support\n",
      "\n",
      "    Economie       0.87      0.91      0.89       362\n",
      "     Science       0.96      0.84      0.89       368\n",
      "       Sport       0.87      0.94      0.90       375\n",
      "\n",
      "    accuracy                           0.90      1105\n",
      "   macro avg       0.90      0.89      0.89      1105\n",
      "weighted avg       0.90      0.90      0.89      1105\n",
      "\n",
      "\n",
      "Modèle testé : SVM\n",
      "              precision    recall  f1-score   support\n",
      "\n",
      "    Economie       0.90      0.93      0.91       362\n",
      "     Science       0.94      0.92      0.93       368\n",
      "       Sport       0.94      0.93      0.93       375\n",
      "\n",
      "    accuracy                           0.92      1105\n",
      "   macro avg       0.93      0.92      0.92      1105\n",
      "weighted avg       0.93      0.92      0.92      1105\n",
      "\n",
      "\n",
      "Modèle testé : Forêt Aléatoire\n",
      "              precision    recall  f1-score   support\n",
      "\n",
      "    Economie       0.87      0.91      0.89       362\n",
      "     Science       0.93      0.88      0.90       368\n",
      "       Sport       0.93      0.93      0.93       375\n",
      "\n",
      "    accuracy                           0.90      1105\n",
      "   macro avg       0.91      0.90      0.90      1105\n",
      "weighted avg       0.91      0.90      0.91      1105\n",
      "\n",
      "\n",
      "Modèle testé : Régression Logistique\n",
      "              precision    recall  f1-score   support\n",
      "\n",
      "    Economie       0.90      0.92      0.91       362\n",
      "     Science       0.95      0.92      0.93       368\n",
      "       Sport       0.93      0.93      0.93       375\n",
      "\n",
      "    accuracy                           0.92      1105\n",
      "   macro avg       0.93      0.92      0.92      1105\n",
      "weighted avg       0.93      0.92      0.93      1105\n",
      "\n"
     ]
    }
   ],
   "source": [
    "# Entraînement et évaluation de chaque modèle puis affichage des résultat\n",
    "for model_name, model in model_choices.items():\n",
    "    model.fit(X_train_tfidf, y_train)\n",
    "    y_pred = model.predict(X_test_tfidf)\n",
    "    accuracy = accuracy_score(y_test, y_pred)\n",
    "    performance_results[model_name] = accuracy\n",
    "    print(f\"\\nModèle testé : {model_name}\")\n",
    "    print(classification_report(y_test, y_pred))\n"
   ]
  },
  {
   "cell_type": "markdown",
   "metadata": {
    "id": "BOWrx5Et2U2G"
   },
   "source": [
    " Précision et Recall par Catégorie\n",
    "\n",
    "  Économie : Recall ≈ 0.93 → 93% des articles économiques sont bien détectés.\n",
    "    \n",
    "  Science : Recall ≈ 0.90 → 90% des articles scientifiques sont bien classés.\n",
    "     \n",
    "  Sport : Recall ≈ 0.89 → 89% des articles sportifs sont bien identifiés."
   ]
  },
  {
   "cell_type": "markdown",
   "metadata": {
    "id": "t81QMRK1T3B7"
   },
   "source": [
    "# 13. Visualisation des performances"
   ]
  },
  {
   "cell_type": "code",
   "execution_count": null,
   "metadata": {
    "colab": {
     "base_uri": "https://localhost:8080/",
     "height": 469
    },
    "id": "fRNAtyK0T8l9",
    "outputId": "6afc4d19-b50a-4402-f01d-24db5a38e2ad"
   },
   "outputs": [
    {
     "data": {
      "image/png": "[encoded data removed]",
      "text/plain": [
       "<Figure size 1000x500 with 1 Axes>"
      ]
     },
     "metadata": {},
     "output_type": "display_data"
    }
   ],
   "source": [
    "# Visualisation des performances\n",
    "plt.figure(figsize=(10,5))\n",
    "sns.barplot(x=list(performance_results.keys()), y=list(performance_results.values()))\n",
    "plt.ylabel(\"Précision\")\n",
    "plt.title(\"Comparaison des Modèles de Classification\")\n",
    "plt.show()"
   ]
  },
  {
   "cell_type": "markdown",
   "metadata": {},
   "source": [
    "# 14. Amélioration des Modèles (Matrice de confusion)\n"
   ]
  },
  {
   "cell_type": "markdown",
   "metadata": {
    "id": "k24I-ZZ4IfpT"
   },
   "source": [
    "Une fois que les modèles ont été entraînés et les prédictions effectuées, il est crucial d’évaluer la performance de ces modèles en utilisant des métriques appropriées. La matrice de confusion est un excellent outil pour analyser la précision des prédictions et comprendre les erreurs. Elle permet de visualiser le nombre de vrais positifs, vrais négatifs, faux positifs et faux négatifs, ce qui aide à évaluer les performances des modèles de manière détaillée."
   ]
  },
  {
   "cell_type": "code",
   "execution_count": null,
   "metadata": {
    "colab": {
     "base_uri": "https://localhost:8080/",
     "height": 674
    },
    "id": "tht87RnoUyCn",
    "outputId": "e3ddc9ca-05d7-4722-bcc7-36651c6b1b29"
   },
   "outputs": [
    {
     "data": {
      "image/png": "[encoded data removed]",
      "text/plain": [
       "<Figure size 1000x700 with 2 Axes>"
      ]
     },
     "metadata": {},
     "output_type": "display_data"
    }
   ],
   "source": [
    "from sklearn.metrics import confusion_matrix\n",
    "import seaborn as sns\n",
    "import matplotlib.pyplot as plt\n",
    "\n",
    "# affichage de la matrice de confusion\n",
    "cm = confusion_matrix(y_test, y_pred)\n",
    "plt.figure(figsize=(10,7))\n",
    "sns.heatmap(cm, annot=True, fmt=\"d\", cmap=\"Blues\", xticklabels=model_choices.keys(), yticklabels=model_choices.keys())\n",
    "plt.ylabel('Vrai label')\n",
    "plt.xlabel('Prédiction')\n",
    "plt.title('Matrice de Confusion')\n",
    "plt.show()\n"
   ]
  },
  {
   "cell_type": "markdown",
   "metadata": {
    "id": "J6RPJmXw2QAq"
   },
   "source": [
    " Peu d'articles sont classés à tort dans une autre catégorie.\n",
    "\n",
    "* **Économie vs Science:** Certains articles économiques sont classés en science. Cela pourrait être dû à des sujets comme l'économie de l’innovation ou les nouvelles technologies.\n",
    "\n",
    "\n",
    "* **Sport vs Économie:** Une confusion possible entre les articles sur les finances du sport (ex: budgets des clubs)."
   ]
  },
  {
   "cell_type": "markdown",
   "metadata": {
    "id": "xR20SgeJVZIc"
   },
   "source": [
    "# 15. Optimisation de la Vectorisation TF-IDF\n",
    "\n",
    " On ajoute n-grammes (1,2) et limitation du vocabulaire aux 5000 mots les plus pertinents."
   ]
  },
  {
   "cell_type": "code",
   "execution_count": null,
   "metadata": {
    "id": "uRuKbWSx5i0w"
   },
   "outputs": [],
   "source": [
    "# Application  de TF-IDF avec des n-grams (1,2) et limiter à 5000 caractéristiques\n",
    "from sklearn.feature_extraction.text import TfidfVectorizer\n",
    "\n",
    "vectorizer = TfidfVectorizer(ngram_range=(1,2), max_features=5000)\n",
    "X_train_tfidf = vectorizer.fit_transform(X_train)\n",
    "X_test_tfidf = vectorizer.transform(X_test)\n"
   ]
  },
  {
   "cell_type": "markdown",
   "metadata": {
    "id": "7jnewfNd8NYS"
   },
   "source": [
    "# 16. Convertir les Labels en Nombres"
   ]
  },
  {
   "cell_type": "code",
   "execution_count": null,
   "metadata": {
    "colab": {
     "base_uri": "https://localhost:8080/"
    },
    "id": "C_wfGyI45pIf",
    "outputId": "28cedbf9-8b8a-4b2f-9ca3-9bf4cefe7392"
   },
   "outputs": [
    {
     "name": "stdout",
     "output_type": "stream",
     "text": [
      "Mapping des catégories : {0: 'Economie', 1: 'Science', 2: 'Sport'}\n"
     ]
    }
   ],
   "source": [
    "# Encoder les étiquettes de classe en valeurs numériques\n",
    "from sklearn.preprocessing import LabelEncoder\n",
    "\n",
    "label_encoder = LabelEncoder()\n",
    "y_train_encoded = label_encoder.fit_transform(y_train)\n",
    "y_test_encoded = label_encoder.transform(y_test)\n",
    "\n",
    "\n",
    "print(\"Mapping des catégories :\", dict(enumerate(label_encoder.classes_)))\n"
   ]
  },
  {
   "cell_type": "markdown",
   "metadata": {
    "id": "1pGNdEqi8Afq"
   },
   "source": [
    "# 17. Amélioration du Modèle avec XGBoost"
   ]
  },
  {
   "cell_type": "markdown",
   "metadata": {
    "id": "QGKRt2gZGiDL"
   },
   "source": [
    "Pour améliorer les performances du modèle, nous appliquons XGBoost, un algorithme de boosting qui est particulièrement efficace pour la classification, en particulier pour des données textuelles complexes. Ce modèle sera comparé aux autres pour voir s'il peut offrir des résultats supérieurs."
   ]
  },
  {
   "cell_type": "code",
   "execution_count": null,
   "metadata": {
    "colab": {
     "base_uri": "https://localhost:8080/"
    },
    "id": "UVJ22jmy6FEr",
    "outputId": "66812cbf-98a3-4a1b-da6c-4c30af8ace23"
   },
   "outputs": [
    {
     "name": "stderr",
     "output_type": "stream",
     "text": [
      "/usr/local/lib/python3.11/dist-packages/xgboost/core.py:158: UserWarning: [20:02:53] WARNING: /workspace/src/learner.cc:740: \n",
      "Parameters: { \"use_label_encoder\" } are not used.\n",
      "\n",
      "  warnings.warn(smsg, UserWarning)\n"
     ]
    },
    {
     "name": "stdout",
     "output_type": "stream",
     "text": [
      "Performance de XGBoost :\n",
      "              precision    recall  f1-score   support\n",
      "\n",
      "    Economie       0.86      0.90      0.88       362\n",
      "     Science       0.92      0.86      0.89       368\n",
      "       Sport       0.91      0.93      0.92       375\n",
      "\n",
      "    accuracy                           0.90      1105\n",
      "   macro avg       0.90      0.90      0.90      1105\n",
      "weighted avg       0.90      0.90      0.90      1105\n",
      "\n"
     ]
    }
   ],
   "source": [
    "# Amélioration du Modèle avec XGBoost\n",
    "from xgboost import XGBClassifier\n",
    "from sklearn.metrics import accuracy_score, classification_report\n",
    "\n",
    "\n",
    "xgb_model = XGBClassifier(use_label_encoder=False, eval_metric=\"mlogloss\")\n",
    "\n",
    "\n",
    "xgb_model.fit(X_train_tfidf, y_train_encoded)\n",
    "\n",
    "\n",
    "y_pred_xgb_encoded = xgb_model.predict(X_test_tfidf)\n",
    "\n",
    "\n",
    "y_pred_xgb = label_encoder.inverse_transform(y_pred_xgb_encoded)\n",
    "\n",
    "\n",
    "print(\"Performance de XGBoost :\")\n",
    "print(classification_report(y_test, y_pred_xgb))\n"
   ]
  },
  {
   "cell_type": "markdown",
   "metadata": {
    "id": "gFO9SZyJ7uLd"
   },
   "source": [
    "# 18. Courbe ROC pour Évaluer XGBoost"
   ]
  },
  {
   "cell_type": "markdown",
   "metadata": {
    "id": "sOKVxELdGx7t"
   },
   "source": [
    "Une fois les modèles entraînés, nous utilisons la courbe ROC (Receiver Operating Characteristic) pour évaluer leur performance en termes de taux de faux positifs et de vrais positifs. Cette courbe permet de mieux comprendre comment chaque modèle classifie les articles et de comparer leur capacité à discriminer entre les différentes catégories."
   ]
  },
  {
   "cell_type": "code",
   "execution_count": null,
   "metadata": {
    "colab": {
     "base_uri": "https://localhost:8080/",
     "height": 564
    },
    "id": "VKZ4abpN6lyO",
    "outputId": "91c76a0b-1d7c-413f-a4c1-eb6e75b088de"
   },
   "outputs": [
    {
     "data": {
      "image/png": "[encoded data removed]",
      "text/plain": [
       "<Figure size 800x600 with 1 Axes>"
      ]
     },
     "metadata": {},
     "output_type": "display_data"
    }
   ],
   "source": [
    "# Courbe ROC\n",
    "from sklearn.metrics import roc_curve, auc\n",
    "import matplotlib.pyplot as plt\n",
    "import numpy as np\n",
    "\n",
    "\n",
    "y_proba_xgb = xgb_model.predict_proba(X_test_tfidf)\n",
    "\n",
    "\n",
    "plt.figure(figsize=(8,6))\n",
    "for i, class_name in enumerate(label_encoder.classes_):\n",
    "    fpr, tpr, _ = roc_curve(y_test_encoded == i, y_proba_xgb[:, i])\n",
    "    roc_auc = auc(fpr, tpr)\n",
    "    plt.plot(fpr, tpr, label=f\"{class_name} (AUC = {roc_auc:.2f})\")\n",
    "\n",
    "\n",
    "plt.plot([0, 1], [0, 1], 'k--', label=\"Aléatoire (AUC = 0.50)\")\n",
    "\n",
    "\n",
    "plt.xlabel(\"Taux de Faux Positifs (FPR)\")\n",
    "plt.ylabel(\"Taux de Vrais Positifs (TPR)\")\n",
    "plt.title(\"Courbe ROC - XGBoost\")\n",
    "plt.legend(loc=\"lower right\")\n",
    "plt.grid()\n",
    "plt.show()\n"
   ]
  },
  {
   "cell_type": "markdown",
   "metadata": {
    "id": "xVUnumAR7Yo4"
   },
   "source": [
    " Trois courbes ROC (une par catégorie : Économie, Science, Sport)\n",
    "\n",
    " **AUC > 0.8** , Très bon modèle"
   ]
  },
  {
   "cell_type": "markdown",
   "metadata": {
    "id": "jKr89O9nQpJd"
   },
   "source": [
    "# 19. Régression Logistique avec spaCy et Scikit-learn\n",
    "\n",
    "  Construsons Maintenat un modèle de régression logistique capable de classifier un nouvel article et de l'assigner automatiquement à sa thématique (Économie, Science, Sport)."
   ]
  },
  {
   "cell_type": "code",
   "execution_count": null,
   "metadata": {
    "colab": {
     "base_uri": "https://localhost:8080/"
    },
    "id": "LxjvDW2MHRwS",
    "outputId": "60a347b6-d4bd-4fad-e746-b8ed3ec9224a"
   },
   "outputs": [
    {
     "data": {
      "text/plain": [
       "CompletedProcess(args=['python', '-m', 'spacy', 'download', 'fr_core_news_sm'], returncode=0)"
      ]
     },
     "execution_count": 44,
     "metadata": {},
     "output_type": "execute_result"
    }
   ],
   "source": [
    "# Télécharger le modèle linguistique français de spaCy\n",
    "import subprocess\n",
    "subprocess.run([\"python\", \"-m\", \"spacy\", \"download\", \"fr_core_news_sm\"])\n"
   ]
  },
  {
   "cell_type": "code",
   "execution_count": null,
   "metadata": {
    "colab": {
     "base_uri": "https://localhost:8080/"
    },
    "id": "QzC1lql1Hm5e",
    "outputId": "e97d94f1-72ad-4434-ba15-b4bd9d890063"
   },
   "outputs": [
    {
     "name": "stderr",
     "output_type": "stream",
     "text": [
      "/usr/local/lib/python3.11/dist-packages/spacy/util.py:1740: UserWarning: [W111] Jupyter notebook detected: if using `prefer_gpu()` or `require_gpu()`, include it in the same cell right before `spacy.load()` to ensure that the model is loaded on the correct device. More information: http://spacy.io/usage/v3#jupyter-notebook-gpu\n",
      "  warnings.warn(Warnings.W111)\n"
     ]
    },
    {
     "name": "stdout",
     "output_type": "stream",
     "text": [
      " spaCy est prêt !\n"
     ]
    }
   ],
   "source": [
    "# Charger le modèle linguistique français de spaCy\n",
    "import spacy\n",
    "nlp = spacy.load(\"fr_core_news_sm\")\n",
    "print(\" spaCy est prêt !\")\n"
   ]
  },
  {
   "cell_type": "code",
   "execution_count": null,
   "metadata": {
    "colab": {
     "base_uri": "https://localhost:8080/"
    },
    "id": "_UG69ThdIb72",
    "outputId": "d5b8463b-df34-4eeb-ca71-d7f78001ef31"
   },
   "outputs": [
    {
     "name": "stdout",
     "output_type": "stream",
     "text": [
      " Fonction de prétraitement prête !\n"
     ]
    }
   ],
   "source": [
    "# Fonction de prétraitement du texte (lemmatisation, stopwords et ponctuation supprimés)\n",
    "def preprocess_text_spacy(text):\n",
    "    doc = nlp(text.lower())\n",
    "    words = [token.lemma_ for token in doc if not token.is_stop and not token.is_punct]\n",
    "    return \" \".join(words)\n",
    "\n",
    "print(\" Fonction de prétraitement prête !\")\n"
   ]
  },
  {
   "cell_type": "markdown",
   "metadata": {
    "id": "l5zbTfabKNiN"
   },
   "source": [
    "Avant de commencer à utiliser ou à entraîner nos modèles, il est essentiel de vérifier si les fichiers sauvegardés existent déjà. Cela nous permet d'éviter de réentraîner un modèle ou un vectoriseur inutilement, et de gagner du temps si des objets préexistants sont déjà disponibles."
   ]
  },
  {
   "cell_type": "code",
   "execution_count": null,
   "metadata": {
    "colab": {
     "base_uri": "https://localhost:8080/"
    },
    "id": "wcc9MwsfKdor",
    "outputId": "5703ed01-16d2-4ac8-aaf6-f06fd8326f9a"
   },
   "outputs": [
    {
     "name": "stdout",
     "output_type": "stream",
     "text": [
      " Modèle et vectoriseur trouvés, prêts à être utilisés !\n"
     ]
    }
   ],
   "source": [
    "import joblib\n",
    "import os\n",
    "\n",
    "# Vérifier si les fichiers existent\n",
    "if os.path.exists(\"logistic_model.pkl\") and os.path.exists(\"tfidf_vectorizer.pkl\") and os.path.exists(\"label_encoder.pkl\"):\n",
    "    print(\" Modèle et vectoriseur trouvés, prêts à être utilisés !\")\n",
    "else:\n",
    "    print(\" Modèle non trouvé, il faut l'entraîner avant.\")\n"
   ]
  },
  {
   "cell_type": "markdown",
   "metadata": {
    "id": "dJK_K56rKYfc"
   },
   "source": [
    "Après avoir chargé nos modèles ou objets nécessaires, il est important de vérifier les catégories qui ont été apprises par le modèle, en particulier pour l'encodeur de labels. Cela nous permet de nous assurer que les catégories correspondent bien à celles que nous avons définies."
   ]
  },
  {
   "cell_type": "code",
   "execution_count": null,
   "metadata": {
    "colab": {
     "base_uri": "https://localhost:8080/"
    },
    "id": "Z38J_-VHKn4k",
    "outputId": "d16ce622-edc5-4442-d073-6101a147d647"
   },
   "outputs": [
    {
     "name": "stdout",
     "output_type": "stream",
     "text": [
      "Catégories dans le modèle : ['Economie' 'Science' 'Sport']\n"
     ]
    }
   ],
   "source": [
    "# le label encoder\n",
    "label_encoder = joblib.load(\"label_encoder.pkl\")\n",
    "\n",
    "# Vérifions les catégories apprises par le modèle\n",
    "print(\"Catégories dans le modèle :\", label_encoder.classes_)\n"
   ]
  },
  {
   "cell_type": "markdown",
   "metadata": {
    "id": "vyVlqIY2Kyei"
   },
   "source": [
    "Il se peut que les catégories utilisées dans le modèle ne soient pas correctes ou qu'elles aient été modifiées. Dans ce cas, nous devons réentraîner le label encoder avec les catégories correctes et les sauvegarder à nouveau pour garantir la cohérence du modèle."
   ]
  },
  {
   "cell_type": "code",
   "execution_count": null,
   "metadata": {
    "colab": {
     "base_uri": "https://localhost:8080/"
    },
    "id": "glXwcxqQOJ9B",
    "outputId": "606efc52-f7ea-4c86-be16-dc5b6bb84f14"
   },
   "outputs": [
    {
     "name": "stdout",
     "output_type": "stream",
     "text": [
      " LabelEncoder corrigé et sauvegardé !\n"
     ]
    }
   ],
   "source": [
    "from sklearn.preprocessing import LabelEncoder\n",
    "\n",
    "# Réentrainons l'encodeur avec les bonnes catégories\n",
    "label_encoder = LabelEncoder()\n",
    "labels_corrects = [\"Economie\", \"Science\", \"Sport\"]\n",
    "label_encoder.fit(labels_corrects)\n",
    "\n",
    "# Sauvegardons à nouveau\n",
    "joblib.dump(label_encoder, \"label_encoder.pkl\")\n",
    "print(\" LabelEncoder corrigé et sauvegardé !\")\n"
   ]
  },
  {
   "cell_type": "markdown",
   "metadata": {
    "id": "sSoHi34zPoWg"
   },
   "source": [
    "# Testons la Classification d’un Nouvel Article"
   ]
  },
  {
   "cell_type": "markdown",
   "metadata": {
    "id": "c5fBDfIFHQn4"
   },
   "source": [
    "Enfin, nous implémentons une fonction permettant de classer un nouvel article en utilisant le modèle entraîné. Cette fonction prend un texte brut, le prétraite, puis le transforme en une représentation vectorielle avant de prédire sa catégorie."
   ]
  },
  {
   "cell_type": "code",
   "execution_count": null,
   "metadata": {
    "colab": {
     "base_uri": "https://localhost:8080/"
    },
    "id": "HkzD-B5bOMw5",
    "outputId": "bf23f4eb-428e-4128-fb0d-5748675d2461"
   },
   "outputs": [
    {
     "name": "stdout",
     "output_type": "stream",
     "text": [
      "Valeur brute prédite : Economie\n",
      " L'article est classé dans la catégorie : Economie\n"
     ]
    }
   ],
   "source": [
    "def classifier_article(nouveau_texte):\n",
    "    logistic_model = joblib.load(\"logistic_model.pkl\")\n",
    "    vectorizer = joblib.load(\"tfidf_vectorizer.pkl\")\n",
    "    label_encoder = joblib.load(\"label_encoder.pkl\")\n",
    "\n",
    "    # Prétraitement avec spaCy\n",
    "    texte_clean = preprocess_text_spacy(nouveau_texte)\n",
    "\n",
    "    # Vectorisation\n",
    "    texte_vectorisé = vectorizer.transform([texte_clean])\n",
    "\n",
    "\n",
    "    prediction = logistic_model.predict(texte_vectorisé)\n",
    "\n",
    "    # Vérification de la sortie brute\n",
    "    print(\"Valeur brute prédite :\", prediction[0])\n",
    "\n",
    "    if isinstance(prediction[0], str):\n",
    "        return prediction[0]\n",
    "\n",
    "    categorie_predite = label_encoder.inverse_transform(prediction)[0]\n",
    "\n",
    "    return categorie_predite\n",
    "\n",
    "# Test avec un nouvel article\n",
    "nouvel_article = \"Le marché boursier connaît une forte volatilité en raison de la crise économique mondiale.\"\n",
    "categorie = classifier_article(nouvel_article)\n",
    "print(f\" L'article est classé dans la catégorie : {categorie}\")\n"
   ]
  },
  {
   "cell_type": "markdown",
   "metadata": {
    "id": "ZddSFT4ZVSPd"
   },
   "source": [
    "## Travail réussi !\n",
    "Fin."
   ]
  }
 ],
 "metadata": {
  "colab": {
   "provenance": []
  },
  "kernelspec": {
   "display_name": "Python 3 (ipykernel)",
   "language": "python",
   "name": "python3"
  },
  "language_info": {
   "codemirror_mode": {
    "name": "ipython",
    "version": 3
   },
   "file_extension": ".py",
   "mimetype": "text/x-python",
   "name": "python",
   "nbconvert_exporter": "python",
   "pygments_lexer": "ipython3",
   "version": "3.9.18"
  }
 },
 "nbformat": 4,
 "nbformat_minor": 4
}
